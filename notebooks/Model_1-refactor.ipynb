{
 "cells": [
  {
   "cell_type": "markdown",
   "metadata": {},
   "source": [
    "### IMPORT"
   ]
  },
  {
   "cell_type": "code",
   "execution_count": 1,
   "metadata": {
    "collapsed": true
   },
   "outputs": [],
   "source": [
    "import pandas as pd\n",
    "%matplotlib inline\n",
    "import matplotlib.pyplot as plt\n",
    "pd.set_option(\"display.max_columns\",100)\n",
    "from datetime import datetime"
   ]
  },
  {
   "cell_type": "markdown",
   "metadata": {},
   "source": [
    "### LOAD DATASET"
   ]
  },
  {
   "cell_type": "code",
   "execution_count": 2,
   "metadata": {
    "collapsed": false,
    "scrolled": false
   },
   "outputs": [],
   "source": [
    "### a function to load (and concatene) informations from Parc_XX.csv\n",
    "def create_df_parc_data(list_num_parc,list_date_parc):\n",
    "    df_parc_data = pd.DataFrame()\n",
    "    for num_parc in list_num_parc:\n",
    "        for date_parc in list_date_parc:\n",
    "            df_parc_data = df_parc_data.append(pd.read_csv(\"../data/Parc%s_%s.csv\"%(num_parc,date_parc),sep=\";\",decimal=','),ignore_index=True)\n",
    "    df_parc_data[\"Date\"] = pd.to_datetime(df_parc_data[\"Date\"], format = \"%d/%m/%Y %H:%M\")\n",
    "    return df_parc_data"
   ]
  },
  {
   "cell_type": "code",
   "execution_count": 3,
   "metadata": {
    "collapsed": true
   },
   "outputs": [],
   "source": [
    "list_num_parc = [1,2,3]\n",
    "list_date_parc = [\"2015\",\"2016\",\"2017\"]"
   ]
  },
  {
   "cell_type": "code",
   "execution_count": 4,
   "metadata": {
    "collapsed": false
   },
   "outputs": [],
   "source": [
    "df_parc_data = create_df_parc_data(list_num_parc,list_date_parc)"
   ]
  },
  {
   "cell_type": "markdown",
   "metadata": {},
   "source": [
    "##### we create the Production_mean_hour variable : mean production per hour"
   ]
  },
  {
   "cell_type": "code",
   "execution_count": 5,
   "metadata": {
    "collapsed": true
   },
   "outputs": [],
   "source": [
    "### we create an ident for each hour \"Date_hour_int\"\n",
    "df_parc_data[\"Date_hour_int\"] = df_parc_data[\"Date\"].dt.year*10**6  + df_parc_data[\"Date\"].dt.month*10**4 +\\\n",
    "df_parc_data[\"Date\"].dt.day*10**2 + df_parc_data[\"Date\"].dt.hour\n",
    "#### we create a dataframe with \"production_mean_hour\" value for each Eolienne*date_hour_int\n",
    "df_product_mean = df_parc_data[df_parc_data[\"Fonctionnement\"]==1].groupby([\"Eolienne\",\"Date_hour_int\"])[\"Production\"]\\\n",
    "                            .mean().reset_index().rename(columns={\"Production\":\"Production_mean_hour\"})\n",
    "\n",
    "##### we add this value in the initial dataset \"df_parc_data\"\n",
    "df_parc_data = pd.merge(df_parc_data,df_product_mean,on=[\"Eolienne\",\"Date_hour_int\"],how=\"left\")"
   ]
  },
  {
   "cell_type": "markdown",
   "metadata": {},
   "source": [
    "####  WEATHER's DATASET from prevMeteo"
   ]
  },
  {
   "cell_type": "code",
   "execution_count": 6,
   "metadata": {
    "collapsed": false
   },
   "outputs": [],
   "source": [
    "### a function to load (and concatene) informations from PrevMeteo_GrilleXX.xlsx\n",
    "def create_df_meteo_from_list_grille(list_grille):\n",
    "    df_meteo  = pd.DataFrame()\n",
    "    for grille_C in list_grille:\n",
    "        df_meteo_tmp =  pd.read_excel('../data/PrevMeteo_Grille%s.xlsx'%(grille_C),sep=';')\n",
    "        df_meteo_tmp[\"grille\"] = grille_C\n",
    "        df_meteo = df_meteo.append(df_meteo_tmp,ignore_index=True)\n",
    "    df_meteo[\"date\"] = pd.to_datetime(df_meteo[\"date\"],format = \"%Y-%m-%d %H:%M:%S\")\n",
    "    df_meteo.rename(columns= {\"date\":\"Date\"},inplace=True)\n",
    "    return df_meteo"
   ]
  },
  {
   "cell_type": "code",
   "execution_count": 7,
   "metadata": {
    "collapsed": true
   },
   "outputs": [],
   "source": [
    "# for weather's data,we can take the value of 16 different \"grille\" \n",
    "# some more data are available but with a very shalow history and will not be used for that model\n",
    "list_grille = range(1,17)\n",
    "df_meteo = create_df_meteo_from_list_grille(list_grille)"
   ]
  },
  {
   "cell_type": "code",
   "execution_count": 8,
   "metadata": {
    "collapsed": false
   },
   "outputs": [
    {
     "data": {
      "text/plain": [
       "Index(['Date', 'fc_hor', 'RS', 'CAPE', 'SP', 'CP', 'BLD', 'SSHF', 'SLHF',\n",
       "       'MSL', 'BLH', 'TCC', 'U10', 'V10', 'T2', 'D2', 'SSRD', 'STRD', 'SSR',\n",
       "       'STR', 'TSR', 'LCC', 'MCC', 'HCC', 'TSRC', 'SSRC', 'STRC', 'TP', 'FA',\n",
       "       'U100', 'V100', 'vit_100', 'vit_10', 'dir_100', 'dir_10', 'grille'],\n",
       "      dtype='object')"
      ]
     },
     "execution_count": 8,
     "metadata": {},
     "output_type": "execute_result"
    }
   ],
   "source": [
    "df_meteo.columns"
   ]
  },
  {
   "cell_type": "code",
   "execution_count": 9,
   "metadata": {
    "collapsed": false,
    "scrolled": true
   },
   "outputs": [],
   "source": [
    "### the aim of this challenge is to predict the Production for tomorrow. \n",
    "# so, we keep only forecast (fc_hor) between 24h and 47h (Tomorrow's Forecast)\n",
    "df_meteo = df_meteo[(df_meteo[\"fc_hor\"]>=24) & (df_meteo[\"fc_hor\"]<=47)].copy()"
   ]
  },
  {
   "cell_type": "markdown",
   "metadata": {},
   "source": [
    "### we create df_all (concatenation of train and test)\n",
    "it's the dataset for the model."
   ]
  },
  {
   "cell_type": "code",
   "execution_count": 17,
   "metadata": {
    "collapsed": false
   },
   "outputs": [],
   "source": [
    "### we keep only one row per hour (minute =0)\n",
    "### we keep only one row where the wind turbine is working (Fonctionnement =1)\n",
    "### we keep only usefull columns\n",
    "list_col_parc_data_to_keep = [\"Date\",\"Eolienne\",\"Fonctionnement\",\"Production_mean_hour\"]\n",
    "df_all = df_parc_data[(df_parc_data[\"Date\"].dt.minute == 0) & (df_parc_data[\"Fonctionnement\"] == 1)]\\\n",
    "[list_col_parc_data_to_keep].copy()"
   ]
  },
  {
   "cell_type": "code",
   "execution_count": 18,
   "metadata": {
    "collapsed": false
   },
   "outputs": [
    {
     "name": "stdout",
     "output_type": "stream",
     "text": [
      "(215158, 4)\n"
     ]
    },
    {
     "data": {
      "text/html": [
       "<div>\n",
       "<style>\n",
       "    .dataframe thead tr:only-child th {\n",
       "        text-align: right;\n",
       "    }\n",
       "\n",
       "    .dataframe thead th {\n",
       "        text-align: left;\n",
       "    }\n",
       "\n",
       "    .dataframe tbody tr th {\n",
       "        vertical-align: top;\n",
       "    }\n",
       "</style>\n",
       "<table border=\"1\" class=\"dataframe\">\n",
       "  <thead>\n",
       "    <tr style=\"text-align: right;\">\n",
       "      <th></th>\n",
       "      <th>Date</th>\n",
       "      <th>Eolienne</th>\n",
       "      <th>Fonctionnement</th>\n",
       "      <th>Production_mean_hour</th>\n",
       "    </tr>\n",
       "  </thead>\n",
       "  <tbody>\n",
       "    <tr>\n",
       "      <th>0</th>\n",
       "      <td>2015-01-01 00:00:00</td>\n",
       "      <td>Turb3</td>\n",
       "      <td>1</td>\n",
       "      <td>121.923333</td>\n",
       "    </tr>\n",
       "    <tr>\n",
       "      <th>60</th>\n",
       "      <td>2015-01-01 01:00:00</td>\n",
       "      <td>Turb3</td>\n",
       "      <td>1</td>\n",
       "      <td>210.081667</td>\n",
       "    </tr>\n",
       "    <tr>\n",
       "      <th>120</th>\n",
       "      <td>2015-01-01 02:00:00</td>\n",
       "      <td>Turb3</td>\n",
       "      <td>1</td>\n",
       "      <td>255.016667</td>\n",
       "    </tr>\n",
       "  </tbody>\n",
       "</table>\n",
       "</div>"
      ],
      "text/plain": [
       "                   Date Eolienne  Fonctionnement  Production_mean_hour\n",
       "0   2015-01-01 00:00:00    Turb3               1            121.923333\n",
       "60  2015-01-01 01:00:00    Turb3               1            210.081667\n",
       "120 2015-01-01 02:00:00    Turb3               1            255.016667"
      ]
     },
     "execution_count": 18,
     "metadata": {},
     "output_type": "execute_result"
    }
   ],
   "source": [
    "print (df_all.shape)\n",
    "df_all.head(3)"
   ]
  },
  {
   "cell_type": "markdown",
   "metadata": {
    "collapsed": true
   },
   "source": [
    "#### we add weather's variable"
   ]
  },
  {
   "cell_type": "code",
   "execution_count": 12,
   "metadata": {
    "collapsed": false
   },
   "outputs": [],
   "source": [
    "#df_all.set_index('Date', inplace=True)"
   ]
  },
  {
   "cell_type": "code",
   "execution_count": 19,
   "metadata": {
    "collapsed": false
   },
   "outputs": [],
   "source": [
    "df_all = pd.merge(df_all, df_meteo, on='Date')"
   ]
  },
  {
   "cell_type": "code",
   "execution_count": 20,
   "metadata": {
    "collapsed": false
   },
   "outputs": [
    {
     "data": {
      "text/html": [
       "<div>\n",
       "<style>\n",
       "    .dataframe thead tr:only-child th {\n",
       "        text-align: right;\n",
       "    }\n",
       "\n",
       "    .dataframe thead th {\n",
       "        text-align: left;\n",
       "    }\n",
       "\n",
       "    .dataframe tbody tr th {\n",
       "        vertical-align: top;\n",
       "    }\n",
       "</style>\n",
       "<table border=\"1\" class=\"dataframe\">\n",
       "  <thead>\n",
       "    <tr style=\"text-align: right;\">\n",
       "      <th></th>\n",
       "      <th>Date</th>\n",
       "      <th>Eolienne</th>\n",
       "      <th>Fonctionnement</th>\n",
       "      <th>Production_mean_hour</th>\n",
       "      <th>fc_hor</th>\n",
       "      <th>RS</th>\n",
       "      <th>CAPE</th>\n",
       "      <th>SP</th>\n",
       "      <th>CP</th>\n",
       "      <th>BLD</th>\n",
       "      <th>SSHF</th>\n",
       "      <th>SLHF</th>\n",
       "      <th>MSL</th>\n",
       "      <th>BLH</th>\n",
       "      <th>TCC</th>\n",
       "      <th>U10</th>\n",
       "      <th>V10</th>\n",
       "      <th>T2</th>\n",
       "      <th>D2</th>\n",
       "      <th>SSRD</th>\n",
       "      <th>STRD</th>\n",
       "      <th>SSR</th>\n",
       "      <th>STR</th>\n",
       "      <th>TSR</th>\n",
       "      <th>LCC</th>\n",
       "      <th>MCC</th>\n",
       "      <th>HCC</th>\n",
       "      <th>TSRC</th>\n",
       "      <th>SSRC</th>\n",
       "      <th>STRC</th>\n",
       "      <th>TP</th>\n",
       "      <th>FA</th>\n",
       "      <th>U100</th>\n",
       "      <th>V100</th>\n",
       "      <th>vit_100</th>\n",
       "      <th>vit_10</th>\n",
       "      <th>dir_100</th>\n",
       "      <th>dir_10</th>\n",
       "      <th>grille</th>\n",
       "    </tr>\n",
       "  </thead>\n",
       "  <tbody>\n",
       "    <tr>\n",
       "      <th>0</th>\n",
       "      <td>2015-01-02</td>\n",
       "      <td>Turb3</td>\n",
       "      <td>1</td>\n",
       "      <td>789.3785</td>\n",
       "      <td>24</td>\n",
       "      <td>2739200.0</td>\n",
       "      <td>0.0</td>\n",
       "      <td>101224.6875</td>\n",
       "      <td>0.0</td>\n",
       "      <td>11.850252</td>\n",
       "      <td>46.509167</td>\n",
       "      <td>-2.275556</td>\n",
       "      <td>102914.3125</td>\n",
       "      <td>433.048706</td>\n",
       "      <td>1.0</td>\n",
       "      <td>4.680779</td>\n",
       "      <td>5.947447</td>\n",
       "      <td>3.927148</td>\n",
       "      <td>1.405420</td>\n",
       "      <td>0.0</td>\n",
       "      <td>285.716675</td>\n",
       "      <td>0.066597</td>\n",
       "      <td>-40.097778</td>\n",
       "      <td>0.0</td>\n",
       "      <td>0.176422</td>\n",
       "      <td>0.951355</td>\n",
       "      <td>1.0</td>\n",
       "      <td>0.0</td>\n",
       "      <td>0.0</td>\n",
       "      <td>-51.831112</td>\n",
       "      <td>0.0</td>\n",
       "      <td>0.156924</td>\n",
       "      <td>8.737968</td>\n",
       "      <td>9.557012</td>\n",
       "      <td>12.949462</td>\n",
       "      <td>7.568475</td>\n",
       "      <td>222.436646</td>\n",
       "      <td>218.203568</td>\n",
       "      <td>1</td>\n",
       "    </tr>\n",
       "    <tr>\n",
       "      <th>1</th>\n",
       "      <td>2015-01-02</td>\n",
       "      <td>Turb3</td>\n",
       "      <td>1</td>\n",
       "      <td>789.3785</td>\n",
       "      <td>24</td>\n",
       "      <td>2761600.0</td>\n",
       "      <td>0.0</td>\n",
       "      <td>101517.1875</td>\n",
       "      <td>0.0</td>\n",
       "      <td>10.392474</td>\n",
       "      <td>46.082500</td>\n",
       "      <td>-2.417778</td>\n",
       "      <td>102930.4375</td>\n",
       "      <td>414.642456</td>\n",
       "      <td>1.0</td>\n",
       "      <td>4.049919</td>\n",
       "      <td>5.698912</td>\n",
       "      <td>3.630762</td>\n",
       "      <td>0.892236</td>\n",
       "      <td>0.0</td>\n",
       "      <td>281.876678</td>\n",
       "      <td>0.066597</td>\n",
       "      <td>-42.444443</td>\n",
       "      <td>0.0</td>\n",
       "      <td>0.147736</td>\n",
       "      <td>0.869507</td>\n",
       "      <td>1.0</td>\n",
       "      <td>0.0</td>\n",
       "      <td>0.0</td>\n",
       "      <td>-52.115555</td>\n",
       "      <td>0.0</td>\n",
       "      <td>0.140978</td>\n",
       "      <td>7.971367</td>\n",
       "      <td>9.275762</td>\n",
       "      <td>12.230391</td>\n",
       "      <td>6.991383</td>\n",
       "      <td>220.674973</td>\n",
       "      <td>215.399414</td>\n",
       "      <td>2</td>\n",
       "    </tr>\n",
       "  </tbody>\n",
       "</table>\n",
       "</div>"
      ],
      "text/plain": [
       "        Date Eolienne  Fonctionnement  Production_mean_hour  fc_hor  \\\n",
       "0 2015-01-02    Turb3               1              789.3785      24   \n",
       "1 2015-01-02    Turb3               1              789.3785      24   \n",
       "\n",
       "          RS  CAPE           SP   CP        BLD       SSHF      SLHF  \\\n",
       "0  2739200.0   0.0  101224.6875  0.0  11.850252  46.509167 -2.275556   \n",
       "1  2761600.0   0.0  101517.1875  0.0  10.392474  46.082500 -2.417778   \n",
       "\n",
       "           MSL         BLH  TCC       U10       V10        T2        D2  SSRD  \\\n",
       "0  102914.3125  433.048706  1.0  4.680779  5.947447  3.927148  1.405420   0.0   \n",
       "1  102930.4375  414.642456  1.0  4.049919  5.698912  3.630762  0.892236   0.0   \n",
       "\n",
       "         STRD       SSR        STR  TSR       LCC       MCC  HCC  TSRC  SSRC  \\\n",
       "0  285.716675  0.066597 -40.097778  0.0  0.176422  0.951355  1.0   0.0   0.0   \n",
       "1  281.876678  0.066597 -42.444443  0.0  0.147736  0.869507  1.0   0.0   0.0   \n",
       "\n",
       "        STRC   TP        FA      U100      V100    vit_100    vit_10  \\\n",
       "0 -51.831112  0.0  0.156924  8.737968  9.557012  12.949462  7.568475   \n",
       "1 -52.115555  0.0  0.140978  7.971367  9.275762  12.230391  6.991383   \n",
       "\n",
       "      dir_100      dir_10  grille  \n",
       "0  222.436646  218.203568       1  \n",
       "1  220.674973  215.399414       2  "
      ]
     },
     "execution_count": 20,
     "metadata": {},
     "output_type": "execute_result"
    }
   ],
   "source": [
    "df_all.head(2)"
   ]
  },
  {
   "cell_type": "markdown",
   "metadata": {},
   "source": [
    "#### we keep only value after 2015_1_3 to avoid missing values"
   ]
  },
  {
   "cell_type": "code",
   "execution_count": 22,
   "metadata": {
    "collapsed": false
   },
   "outputs": [],
   "source": [
    "df_all = df_all[df_all['Date'] > datetime(2015,1,3)].copy()\n",
    "df_all.sort_values('Date', ascending=1, inplace=True)"
   ]
  },
  {
   "cell_type": "markdown",
   "metadata": {},
   "source": [
    "### MACHINE LEARNING\n"
   ]
  },
  {
   "cell_type": "markdown",
   "metadata": {},
   "source": [
    "#### we create the train/val split\n",
    "The objective is now to create a dataset to train a model and a dataset to evaluate our model."
   ]
  },
  {
   "cell_type": "code",
   "execution_count": 23,
   "metadata": {
    "collapsed": true
   },
   "outputs": [],
   "source": [
    "date_split_val = datetime(2016,1,1)\n",
    "date_split_test = datetime(2017,1,1)"
   ]
  },
  {
   "cell_type": "code",
   "execution_count": 25,
   "metadata": {
    "collapsed": false,
    "scrolled": true
   },
   "outputs": [],
   "source": [
    "df_all_train = df_all[df_all['Date'] < date_split_val]\n",
    "df_all_val = df_all[(df_all['Date'] >= date_split_val) & (df_all['Date'] < date_split_test)]"
   ]
  },
  {
   "cell_type": "markdown",
   "metadata": {},
   "source": [
    "#### for the moment, we keep all variables"
   ]
  },
  {
   "cell_type": "code",
   "execution_count": 34,
   "metadata": {
    "collapsed": true
   },
   "outputs": [],
   "source": [
    "list_col_model = list(df_all_train.columns[5:])\n",
    "col_target = \"Production_mean_hour\""
   ]
  },
  {
   "cell_type": "markdown",
   "metadata": {},
   "source": [
    "#### for this notebook, we will use a linear model"
   ]
  },
  {
   "cell_type": "code",
   "execution_count": null,
   "metadata": {
    "collapsed": true
   },
   "outputs": [],
   "source": [
    "#from sklearn.linear_model import LinearRegression\n",
    "#from sklearn.linear_model import Lasso\n",
    "#from sklearn.linear_model import ElasticNet\n",
    "# check : from sklearn.linear_model import ElasticNetCV"
   ]
  },
  {
   "cell_type": "code",
   "execution_count": null,
   "metadata": {
    "collapsed": false
   },
   "outputs": [],
   "source": [
    "#model = LinearRegression()\n",
    "#model = Lasso(alpha=0.1, copy_X=False, normalize=True, max_iter=10000, precompute=True)\n",
    "#model = ElasticNet(alpha = 0.1, l1_ratio=1, normalize=True, precompute=True, max_iter=10000, copy_X=False, tol=0.0001)"
   ]
  },
  {
   "cell_type": "markdown",
   "metadata": {},
   "source": [
    "#### Fit one model by turbine on the train dataset (2015)\n",
    "A lasso is performed first in order to perform an effective feature selection"
   ]
  },
  {
   "cell_type": "code",
   "execution_count": null,
   "metadata": {
    "collapsed": true
   },
   "outputs": [],
   "source": [
    "# from sklearn.feature_selection import SelectKBest\n",
    "# from sklearn.feature_selection import f_regression"
   ]
  },
  {
   "cell_type": "code",
   "execution_count": 26,
   "metadata": {
    "collapsed": true
   },
   "outputs": [],
   "source": [
    "from sklearn.pipeline import Pipeline\n",
    "from sklearn.linear_model import Lasso\n",
    "\n",
    "turbines = ['Turb1', 'Turb2', 'Turb3', 'Turb4', 'Turb5', 'Turb6', 'Turb7', 'Turb8', 'Turb9', 'Turb10', 'Turb11']\n",
    "# turbines = ['Turb1']\n",
    "\n",
    "# create pipeline dictionnary with key is turbine and value is a a dictionnary of models\n",
    "models = {turbine :  \n",
    "              {grid : Pipeline([('Lasso', Lasso(alpha=0.1, copy_X=False, normalize=True, max_iter=1000))]) for grid in list_grille} \n",
    "          for turbine in turbines}\n"
   ]
  },
  {
   "cell_type": "code",
   "execution_count": 35,
   "metadata": {
    "collapsed": false
   },
   "outputs": [],
   "source": [
    "# train models\n",
    "for turbine, full_grid in models.items():\n",
    "    for grid, model in full_grid.items():\n",
    "        train = df_all_train[(df_all_train[\"Eolienne\"] == turbine) & (df_all_train[\"grille\"] == grid)]\n",
    "        model.fit(train[list_col_model], train[col_target])"
   ]
  },
  {
   "cell_type": "code",
   "execution_count": 53,
   "metadata": {
    "collapsed": false
   },
   "outputs": [
    {
     "name": "stdout",
     "output_type": "stream",
     "text": [
      "  (0, 0)\t3.29512745268e-06\n",
      "  (0, 1)\t0.0829210052541\n",
      "  (0, 4)\t15.548374094\n",
      "  (0, 5)\t0.0782235463827\n",
      "  (0, 7)\t0.00619424507003\n",
      "  (0, 8)\t0.173629355961\n",
      "  (0, 9)\t-80.6499168342\n",
      "  (0, 10)\t0.233977501351\n",
      "  (0, 13)\t-6.13744236483\n",
      "  (0, 18)\t-0.0666283973745\n",
      "  (0, 19)\t-5.27913207904\n",
      "  (0, 23)\t-0.14005908756\n",
      "  (0, 28)\t-5.54358815751\n",
      "  (0, 29)\t65.6724343431\n",
      "  (0, 30)\t75.1066491187\n",
      "  (0, 32)\t-0.0997552826882\n"
     ]
    }
   ],
   "source": [
    "print(models['Turb1'][0].steps[0][1].sparse_coef_)"
   ]
  },
  {
   "cell_type": "code",
   "execution_count": 72,
   "metadata": {
    "collapsed": true
   },
   "outputs": [],
   "source": [
    "# predict\n",
    "list_col_pred_val = list(set([\"Date\", \"Fonctionnement\", \"Eolienne\", col_target] + list_col_model))\n",
    "col_pred = [\"pred\" + str(i) for i in range(1,17)]"
   ]
  },
  {
   "cell_type": "code",
   "execution_count": 75,
   "metadata": {
    "collapsed": false
   },
   "outputs": [
    {
     "name": "stdout",
     "output_type": "stream",
     "text": [
      "Processing turbine: Turb1\n",
      "Processing turbine: Turb2\n",
      "Processing turbine: Turb10\n",
      "Processing turbine: Turb9\n",
      "Processing turbine: Turb8\n",
      "Processing turbine: Turb3\n",
      "Processing turbine: Turb4\n",
      "Processing turbine: Turb6\n",
      "Processing turbine: Turb11\n",
      "Processing turbine: Turb5\n",
      "Processing turbine: Turb7\n"
     ]
    }
   ],
   "source": [
    "#prediction has to be between 0 and 2000\n",
    "df_pred_val = df_all_val.loc[df_all_val[\"grille\"] == 1, [\"Date\", \"Eolienne\", col_target] + col_pred].copy() \n",
    "\n",
    "for turbine, full_grid in models.items():\n",
    "    print(\"Processing turbine: \" + turbine)\n",
    "    for grid, model in full_grid.items():\n",
    "        df_all_val_chunk = df_all_val.loc[(df_all_val[\"Eolienne\"] == turbine) & (df_all_val[\"grille\"] == grid), list_col_pred_val]\n",
    "        pred = list(map(lambda x : max(min(x, 2000), 0), models[turbine][grid].predict(df_all_val_chunk[list_col_model])))\n",
    "        df_pred_val.loc[df_pred_val[\"Eolienne\"] == turbine, [\"pred\" + str(grid)]] = pred"
   ]
  },
  {
   "cell_type": "code",
   "execution_count": 77,
   "metadata": {
    "collapsed": false
   },
   "outputs": [
    {
     "data": {
      "text/html": [
       "<div>\n",
       "<style>\n",
       "    .dataframe thead tr:only-child th {\n",
       "        text-align: right;\n",
       "    }\n",
       "\n",
       "    .dataframe thead th {\n",
       "        text-align: left;\n",
       "    }\n",
       "\n",
       "    .dataframe tbody tr th {\n",
       "        vertical-align: top;\n",
       "    }\n",
       "</style>\n",
       "<table border=\"1\" class=\"dataframe\">\n",
       "  <thead>\n",
       "    <tr style=\"text-align: right;\">\n",
       "      <th></th>\n",
       "      <th>Date</th>\n",
       "      <th>Eolienne</th>\n",
       "      <th>Production_mean_hour</th>\n",
       "      <th>pred1</th>\n",
       "      <th>pred2</th>\n",
       "      <th>pred3</th>\n",
       "      <th>pred4</th>\n",
       "      <th>pred5</th>\n",
       "      <th>pred6</th>\n",
       "      <th>pred7</th>\n",
       "      <th>pred8</th>\n",
       "      <th>pred9</th>\n",
       "      <th>pred10</th>\n",
       "      <th>pred11</th>\n",
       "      <th>pred12</th>\n",
       "      <th>pred13</th>\n",
       "      <th>pred14</th>\n",
       "      <th>pred15</th>\n",
       "      <th>pred16</th>\n",
       "    </tr>\n",
       "  </thead>\n",
       "  <tbody>\n",
       "    <tr>\n",
       "      <th>2592512</th>\n",
       "      <td>2016-01-01</td>\n",
       "      <td>Turb7</td>\n",
       "      <td>389.199500</td>\n",
       "      <td>309.686575</td>\n",
       "      <td>336.092390</td>\n",
       "      <td>369.096522</td>\n",
       "      <td>414.791516</td>\n",
       "      <td>309.315444</td>\n",
       "      <td>334.475622</td>\n",
       "      <td>364.050056</td>\n",
       "      <td>401.245802</td>\n",
       "      <td>292.597004</td>\n",
       "      <td>335.157724</td>\n",
       "      <td>376.961963</td>\n",
       "      <td>413.208024</td>\n",
       "      <td>288.792239</td>\n",
       "      <td>325.423222</td>\n",
       "      <td>365.847304</td>\n",
       "      <td>401.840672</td>\n",
       "    </tr>\n",
       "    <tr>\n",
       "      <th>2592528</th>\n",
       "      <td>2016-01-01</td>\n",
       "      <td>Turb8</td>\n",
       "      <td>432.570000</td>\n",
       "      <td>336.564677</td>\n",
       "      <td>361.530871</td>\n",
       "      <td>394.430507</td>\n",
       "      <td>439.504740</td>\n",
       "      <td>336.905985</td>\n",
       "      <td>359.712924</td>\n",
       "      <td>389.049338</td>\n",
       "      <td>430.007314</td>\n",
       "      <td>319.982892</td>\n",
       "      <td>364.945156</td>\n",
       "      <td>407.105418</td>\n",
       "      <td>443.881771</td>\n",
       "      <td>313.518677</td>\n",
       "      <td>353.814072</td>\n",
       "      <td>396.259104</td>\n",
       "      <td>431.950516</td>\n",
       "    </tr>\n",
       "    <tr>\n",
       "      <th>2592480</th>\n",
       "      <td>2016-01-01</td>\n",
       "      <td>Turb5</td>\n",
       "      <td>467.763833</td>\n",
       "      <td>345.456277</td>\n",
       "      <td>371.327223</td>\n",
       "      <td>404.390416</td>\n",
       "      <td>449.853625</td>\n",
       "      <td>343.604738</td>\n",
       "      <td>367.499378</td>\n",
       "      <td>397.050934</td>\n",
       "      <td>436.498841</td>\n",
       "      <td>318.238827</td>\n",
       "      <td>365.090388</td>\n",
       "      <td>410.615462</td>\n",
       "      <td>450.189407</td>\n",
       "      <td>312.792606</td>\n",
       "      <td>352.180834</td>\n",
       "      <td>394.396052</td>\n",
       "      <td>434.715373</td>\n",
       "    </tr>\n",
       "    <tr>\n",
       "      <th>2592544</th>\n",
       "      <td>2016-01-01</td>\n",
       "      <td>Turb1</td>\n",
       "      <td>587.974000</td>\n",
       "      <td>466.084997</td>\n",
       "      <td>488.889537</td>\n",
       "      <td>521.620466</td>\n",
       "      <td>566.975011</td>\n",
       "      <td>463.293526</td>\n",
       "      <td>482.973778</td>\n",
       "      <td>511.563319</td>\n",
       "      <td>554.176552</td>\n",
       "      <td>431.956213</td>\n",
       "      <td>484.232679</td>\n",
       "      <td>530.801820</td>\n",
       "      <td>571.719633</td>\n",
       "      <td>425.685811</td>\n",
       "      <td>469.397448</td>\n",
       "      <td>515.163031</td>\n",
       "      <td>559.132011</td>\n",
       "    </tr>\n",
       "    <tr>\n",
       "      <th>2592496</th>\n",
       "      <td>2016-01-01</td>\n",
       "      <td>Turb6</td>\n",
       "      <td>394.706167</td>\n",
       "      <td>326.413487</td>\n",
       "      <td>352.175229</td>\n",
       "      <td>385.186196</td>\n",
       "      <td>430.209832</td>\n",
       "      <td>325.303035</td>\n",
       "      <td>349.419467</td>\n",
       "      <td>378.981023</td>\n",
       "      <td>416.567246</td>\n",
       "      <td>304.397233</td>\n",
       "      <td>349.185369</td>\n",
       "      <td>392.994612</td>\n",
       "      <td>428.427899</td>\n",
       "      <td>301.282599</td>\n",
       "      <td>341.408140</td>\n",
       "      <td>382.356430</td>\n",
       "      <td>417.017145</td>\n",
       "    </tr>\n",
       "  </tbody>\n",
       "</table>\n",
       "</div>"
      ],
      "text/plain": [
       "              Date Eolienne  Production_mean_hour       pred1       pred2  \\\n",
       "2592512 2016-01-01    Turb7            389.199500  309.686575  336.092390   \n",
       "2592528 2016-01-01    Turb8            432.570000  336.564677  361.530871   \n",
       "2592480 2016-01-01    Turb5            467.763833  345.456277  371.327223   \n",
       "2592544 2016-01-01    Turb1            587.974000  466.084997  488.889537   \n",
       "2592496 2016-01-01    Turb6            394.706167  326.413487  352.175229   \n",
       "\n",
       "              pred3       pred4       pred5       pred6       pred7  \\\n",
       "2592512  369.096522  414.791516  309.315444  334.475622  364.050056   \n",
       "2592528  394.430507  439.504740  336.905985  359.712924  389.049338   \n",
       "2592480  404.390416  449.853625  343.604738  367.499378  397.050934   \n",
       "2592544  521.620466  566.975011  463.293526  482.973778  511.563319   \n",
       "2592496  385.186196  430.209832  325.303035  349.419467  378.981023   \n",
       "\n",
       "              pred8       pred9      pred10      pred11      pred12  \\\n",
       "2592512  401.245802  292.597004  335.157724  376.961963  413.208024   \n",
       "2592528  430.007314  319.982892  364.945156  407.105418  443.881771   \n",
       "2592480  436.498841  318.238827  365.090388  410.615462  450.189407   \n",
       "2592544  554.176552  431.956213  484.232679  530.801820  571.719633   \n",
       "2592496  416.567246  304.397233  349.185369  392.994612  428.427899   \n",
       "\n",
       "             pred13      pred14      pred15      pred16  \n",
       "2592512  288.792239  325.423222  365.847304  401.840672  \n",
       "2592528  313.518677  353.814072  396.259104  431.950516  \n",
       "2592480  312.792606  352.180834  394.396052  434.715373  \n",
       "2592544  425.685811  469.397448  515.163031  559.132011  \n",
       "2592496  301.282599  341.408140  382.356430  417.017145  "
      ]
     },
     "execution_count": 77,
     "metadata": {},
     "output_type": "execute_result"
    }
   ],
   "source": [
    "df_pred_val.head()"
   ]
  },
  {
   "cell_type": "code",
   "execution_count": 78,
   "metadata": {
    "collapsed": true
   },
   "outputs": [],
   "source": [
    "from sklearn.metrics import mean_absolute_error\n",
    "import numpy as np"
   ]
  },
  {
   "cell_type": "code",
   "execution_count": 88,
   "metadata": {
    "collapsed": false
   },
   "outputs": [],
   "source": [
    "#Benchmark is 259.4\n",
    "#get best pred for each model\n",
    "best_grid = [(turbine, np.argmin([mean_absolute_error(df_pred_val.loc[df_pred_val[\"Eolienne\"] == turbine, [col_target]], df_pred_val.loc[df_pred_val[\"Eolienne\"] == turbine, [pred]]) for pred in col_pred])) for turbine in turbines]"
   ]
  },
  {
   "cell_type": "code",
   "execution_count": 105,
   "metadata": {
    "collapsed": false
   },
   "outputs": [],
   "source": [
    "#refactor: work on several small files rather than one big\n",
    "for (turbine, grid) in best_grid:\n",
    "    df_pred_val.loc[df_pred_val[\"Eolienne\"] == turbine, [\"pred\"]] = df_pred_val.loc[df_pred_val[\"Eolienne\"] == turbine, [\"pred\"+str(grid)]].values"
   ]
  },
  {
   "cell_type": "markdown",
   "metadata": {},
   "source": [
    "##### preprocessing"
   ]
  },
  {
   "cell_type": "code",
   "execution_count": null,
   "metadata": {
    "collapsed": false
   },
   "outputs": [],
   "source": [
    "#could be helpful to normalize data before if variable multiplication are used in the model\n",
    "from sklearn.preprocessing import PolynomialFeatures\n",
    "poly = PolynomialFeatures(3)"
   ]
  },
  {
   "cell_type": "code",
   "execution_count": null,
   "metadata": {
    "collapsed": false
   },
   "outputs": [],
   "source": [
    "#Model should be rebuilt to treat each grid file separatly and then blending step will agregate all models together\n",
    "#log transform (or other) should be tested (hyper-parameter)\n",
    "\n",
    "#reprocess import phase and slice data by turbine / grid\n",
    "#then construct dictionnary of pipeline\n",
    "#try a PCA in the pipeline\n",
    "#ensemble : see how to select/blend models\n",
    "#try XGBoost\n",
    "\n",
    "\n",
    "X_train = poly.fit_transform(df_all_train.loc[df_all_train[\"Eolienne\"] == \"Turb1\", list_col_model])"
   ]
  },
  {
   "cell_type": "code",
   "execution_count": null,
   "metadata": {
    "collapsed": false
   },
   "outputs": [],
   "source": [
    "X_train[0:2,:]"
   ]
  },
  {
   "cell_type": "code",
   "execution_count": null,
   "metadata": {
    "collapsed": false
   },
   "outputs": [],
   "source": [
    "X_test = poly.fit_transform(df_all_val.loc[df_all_val[\"Eolienne\"] == \"Turb1\", list_col_model])"
   ]
  },
  {
   "cell_type": "markdown",
   "metadata": {},
   "source": [
    "#### we evaluate our prediction"
   ]
  },
  {
   "cell_type": "code",
   "execution_count": null,
   "metadata": {
    "collapsed": true
   },
   "outputs": [],
   "source": [
    "from sklearn.metrics import mean_absolute_error\n",
    "import numpy as np"
   ]
  },
  {
   "cell_type": "code",
   "execution_count": 107,
   "metadata": {
    "collapsed": false,
    "scrolled": true
   },
   "outputs": [
    {
     "data": {
      "text/plain": [
       "209.22220184065762"
      ]
     },
     "execution_count": 107,
     "metadata": {},
     "output_type": "execute_result"
    }
   ],
   "source": [
    "#Benchmark is 259.4\n",
    "mean_absolute_error(df_pred_val[col_target],df_pred_val[\"pred\"])"
   ]
  },
  {
   "cell_type": "code",
   "execution_count": null,
   "metadata": {
    "collapsed": false,
    "scrolled": true
   },
   "outputs": [],
   "source": [
    "df_pred_val[[\"Eolienne\", col_target, \"pred\"]]"
   ]
  },
  {
   "cell_type": "code",
   "execution_count": null,
   "metadata": {
    "collapsed": false,
    "scrolled": true
   },
   "outputs": [],
   "source": [
    "eolienne_C = \"Turb2\"\n",
    "df_pred_val[df_pred_val[\"Eolienne\"] == eolienne_C][[\"Production_mean_hour\", \"pred\"]].iloc[0:300].plot(figsize=(16,4))"
   ]
  },
  {
   "cell_type": "markdown",
   "metadata": {},
   "source": [
    "#### we predict on the test"
   ]
  },
  {
   "cell_type": "code",
   "execution_count": 108,
   "metadata": {
    "collapsed": true
   },
   "outputs": [],
   "source": [
    "df_all_test = df_all[(df_all[\"Date\"]>=date_split_test)].copy()"
   ]
  },
  {
   "cell_type": "code",
   "execution_count": 109,
   "metadata": {
    "collapsed": true
   },
   "outputs": [],
   "source": [
    "list_col_pred_test = list(set([\"Date\",\"Eolienne\"]+list_col_model))\n",
    "df_pred_test = df_all_test[list_col_pred_test].copy()"
   ]
  },
  {
   "cell_type": "code",
   "execution_count": 110,
   "metadata": {
    "collapsed": false,
    "scrolled": true
   },
   "outputs": [],
   "source": [
    "# TODO : here predict for test file based to learned model\n",
    "df_pred_test[\"pred\"] = model.predict(df_all_test[list_col_model])"
   ]
  },
  {
   "cell_type": "markdown",
   "metadata": {},
   "source": [
    "##### we create the submit_file"
   ]
  },
  {
   "cell_type": "code",
   "execution_count": 111,
   "metadata": {
    "collapsed": false,
    "scrolled": true
   },
   "outputs": [],
   "source": [
    "df_pred_test[[\"Date\",\"Eolienne\",\"pred\"]].to_csv(\"../data/submit_benchmark.csv\",sep=\";\",index=False)"
   ]
  },
  {
   "cell_type": "code",
   "execution_count": 112,
   "metadata": {
    "collapsed": false,
    "scrolled": true
   },
   "outputs": [
    {
     "data": {
      "text/html": [
       "<div>\n",
       "<style>\n",
       "    .dataframe thead tr:only-child th {\n",
       "        text-align: right;\n",
       "    }\n",
       "\n",
       "    .dataframe thead th {\n",
       "        text-align: left;\n",
       "    }\n",
       "\n",
       "    .dataframe tbody tr th {\n",
       "        vertical-align: top;\n",
       "    }\n",
       "</style>\n",
       "<table border=\"1\" class=\"dataframe\">\n",
       "  <thead>\n",
       "    <tr style=\"text-align: right;\">\n",
       "      <th></th>\n",
       "      <th>Date</th>\n",
       "      <th>Eolienne</th>\n",
       "      <th>pred</th>\n",
       "    </tr>\n",
       "  </thead>\n",
       "  <tbody>\n",
       "    <tr>\n",
       "      <th>0</th>\n",
       "      <td>2017-01-01 00:00:00</td>\n",
       "      <td>Turb8</td>\n",
       "      <td>178.861753</td>\n",
       "    </tr>\n",
       "    <tr>\n",
       "      <th>1</th>\n",
       "      <td>2017-01-01 00:00:00</td>\n",
       "      <td>Turb8</td>\n",
       "      <td>93.445708</td>\n",
       "    </tr>\n",
       "    <tr>\n",
       "      <th>2</th>\n",
       "      <td>2017-01-01 00:00:00</td>\n",
       "      <td>Turb8</td>\n",
       "      <td>82.749913</td>\n",
       "    </tr>\n",
       "    <tr>\n",
       "      <th>3</th>\n",
       "      <td>2017-01-01 00:00:00</td>\n",
       "      <td>Turb8</td>\n",
       "      <td>65.066844</td>\n",
       "    </tr>\n",
       "    <tr>\n",
       "      <th>4</th>\n",
       "      <td>2017-01-01 00:00:00</td>\n",
       "      <td>Turb8</td>\n",
       "      <td>76.702268</td>\n",
       "    </tr>\n",
       "  </tbody>\n",
       "</table>\n",
       "</div>"
      ],
      "text/plain": [
       "                  Date Eolienne        pred\n",
       "0  2017-01-01 00:00:00    Turb8  178.861753\n",
       "1  2017-01-01 00:00:00    Turb8   93.445708\n",
       "2  2017-01-01 00:00:00    Turb8   82.749913\n",
       "3  2017-01-01 00:00:00    Turb8   65.066844\n",
       "4  2017-01-01 00:00:00    Turb8   76.702268"
      ]
     },
     "execution_count": 112,
     "metadata": {},
     "output_type": "execute_result"
    }
   ],
   "source": [
    "pd.read_csv(\"../data/submit_benchmark.csv\",sep=\";\",nrows=5)"
   ]
  },
  {
   "cell_type": "code",
   "execution_count": null,
   "metadata": {
    "collapsed": true
   },
   "outputs": [],
   "source": []
  }
 ],
 "metadata": {
  "anaconda-cloud": {},
  "kernelspec": {
   "display_name": "Python [conda root]",
   "language": "python",
   "name": "conda-root-py"
  },
  "language_info": {
   "codemirror_mode": {
    "name": "ipython",
    "version": 3
   },
   "file_extension": ".py",
   "mimetype": "text/x-python",
   "name": "python",
   "nbconvert_exporter": "python",
   "pygments_lexer": "ipython3",
   "version": "3.5.2"
  }
 },
 "nbformat": 4,
 "nbformat_minor": 2
}
