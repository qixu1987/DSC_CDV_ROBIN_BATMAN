{
 "cells": [
  {
   "cell_type": "markdown",
   "metadata": {
    "collapsed": true
   },
   "source": [
    "# La Compagnie du Vent Challenge \n",
    "1.first try"
   ]
  },
  {
   "cell_type": "code",
   "execution_count": 1,
   "metadata": {
    "collapsed": true
   },
   "outputs": [],
   "source": [
    "# pacakge import\n",
    "import pandas as pd\n",
    "%matplotlib inline\n",
    "import matplotlib.pyplot as plt\n",
    "\n",
    "import datetime\n",
    "import numpy as np\n",
    "from datetime import timedelta\n",
    "import gc\n",
    "from sklearn.metrics import mean_absolute_error\n",
    "import xgboost as xgb"
   ]
  },
  {
   "cell_type": "code",
   "execution_count": 2,
   "metadata": {
    "collapsed": true
   },
   "outputs": [],
   "source": [
    "def create_df_parc_data(folder_adr,list_num_parc,list_date_parc):\n",
    "    \"\"\"\n",
    "    a function to load (and concatene) informations from Parc_XX.csv\n",
    "    \"\"\"\n",
    "    df_parc_data = pd.DataFrame()\n",
    "    for num_parc in list_num_parc:\n",
    "        for date_parc in list_date_parc:\n",
    "            df_parc_data = df_parc_data.append(pd.read_csv(folder_adr+\"//Parc%s_%s.csv\"%(num_parc,date_parc),sep=\";\",decimal=','),ignore_index=True)\n",
    "    df_parc_data[\"Date\"] = pd.to_datetime(df_parc_data[\"Date\"],format = \"%d/%m/%Y %H:%M\")\n",
    "    return df_parc_data\n",
    "\n",
    "def load_parc_data(folder_adr,list_num_parc,list_date_parc,list_col_parc_data_to_keep):\n",
    "    \"\"\"\n",
    "    keep only fonctionnement == 1 and selection columns\n",
    "    \"\"\"\n",
    "    df_parc_data = create_df_parc_data(folder_adr,list_num_parc,list_date_parc)\n",
    "    # keep only fonctionnment = 1\n",
    "    df_parc_data =  df_parc_data[df_parc_data[\"Fonctionnement\"]==1]\n",
    "    print(df_parc_data.shape)\n",
    "    return df_parc_data[list_col_parc_data_to_keep]\n",
    "\n",
    "def add_feature_timestamp(df_parc_data):\n",
    "    \"\"\"\n",
    "    create time features\n",
    "    \"\"\"\n",
    "    df_parc_data[\"Month\"] = df_parc_data[\"Date\"].dt.month\n",
    "    df_parc_data[\"Day\"] = df_parc_data[\"Date\"].dt.day\n",
    "    df_parc_data[\"Hour\"] = df_parc_data[\"Date\"].dt.hour\n",
    "    df_parc_data[\"Weekday\"] = df_parc_data[\"Date\"].dt.weekday\n",
    "    df_parc_data[\"Date_hour_int\"] = df_parc_data[\"Date\"].dt.year*10**6  + df_parc_data[\"Date\"].dt.month*10**4 +\\\n",
    "    df_parc_data[\"Date\"].dt.day*100 + df_parc_data[\"Date\"].dt.hour\n",
    "    df_parc_data[\"nb_hour\"] = df_parc_data[\"Date\"].apply(lambda x: np.floor((x- datetime.datetime(2015,1,1)).total_seconds()/3600))\n",
    "    return \n",
    " \n",
    "def add_feature_state(df_parc_data):\n",
    "    \"\"\"\n",
    "    create state features\n",
    "    \"\"\"\n",
    "    df_parc_data[\"State_pause\"] = 0  \n",
    "    df_parc_data.loc[df_parc_data[\"State\"]==2,\"State_pause\"]=1\n",
    "    df_parc_data[\"State_ambiant\"] = 0\n",
    "    df_parc_data.loc[df_parc_data[\"State\"]==999,\"State_ambiant\"]=1\n",
    "    df_parc_data[\"state_pause_ambiant\"] = df_parc_data[\"State_pause\"] + df_parc_data[\"State_ambiant\"]\n",
    "    return\n",
    "\n",
    "def min_to_hour(df_parc_data):\n",
    "    \"\"\"\n",
    "    convert minute dataframe to hourly dataframe\n",
    "    \"\"\"\n",
    "    df_parc_data_hour = df_parc_data.groupby([\"Date_hour_int\",\"Eolienne\"]).mean()\n",
    "    return df_parc_data_hour.reset_index()\n",
    "\n",
    "def get_eolienne_list(df_parc_data):\n",
    "    \"\"\"\n",
    "    get all eolienne name in the df\n",
    "    \"\"\"\n",
    "    return df_parc_data[\"Eolienne\"].drop_duplicates().tolist()\n",
    "\n",
    "def create_df_meteo_from_list_grille(folder_adr,list_grille):\n",
    "    \"\"\"\n",
    "    a function to load (and concatenate) informations from PrevMeteo_GrilleXX.xlsx\n",
    "    \"\"\"\n",
    "    df_meteo  = pd.DataFrame()\n",
    "    for grille_C in list_grille:\n",
    "        df_meteo_tmp =  pd.read_excel(folder_adr +'/PrevMeteo_Grille%s.xlsx'%(grille_C),sep=';')\n",
    "        df_meteo_tmp[\"grille\"] = grille_C\n",
    "        df_meteo = df_meteo.append(df_meteo_tmp,ignore_index=True)\n",
    "    df_meteo[\"date\"] = pd.to_datetime(df_meteo[\"date\"],format = \"%Y-%m-%d %H:%M:%S\")\n",
    "    df_meteo.rename(columns= {\"date\":\"Date\"},inplace=True)\n",
    "    return df_meteo\n",
    "\n",
    "def meteo_grill_merge(df_meteo,feature_list,join_key):\n",
    "    \"\"\"\n",
    "    merge meteo data by grille\n",
    "    \"\"\"\n",
    "    grille_list = df_meteo[\"grille\"].drop_duplicates().tolist() \n",
    "    all_feature_list = feature_list + join_key\n",
    "    grille_name = grille_list[0]\n",
    "    index = df_meteo[\"grille\"] == grille_name\n",
    "    df_meteo_merged = df_meteo.loc[index,all_feature_list]\n",
    "    df_meteo_merged.columns =  [x +\"_\"+ str(grille_name) for x in feature_list] + join_key\n",
    "    if len(grille_list)==1:\n",
    "        return df_meteo_merged\n",
    "    for grille_name in grille_list[1:]:\n",
    "        index = df_meteo[\"grille\"] == grille_name\n",
    "        df_meteo_merged_p = df_meteo.loc[index,all_feature_list]\n",
    "        df_meteo_merged_p.columns =  [x +\"_\"+ str(grille_name) for x in feature_list] + join_key\n",
    "        df_meteo_merged =  pd.merge(df_meteo_merged,df_meteo_merged_p,on=\"Date_hour_int\",how=\"left\")\n",
    "    return df_meteo_merged\n",
    "\n",
    "# define new objective fonction for xgboost\n",
    "def fair_obj(preds, dtrain):\n",
    "    \"\"\"\n",
    "    fair_obj function to optimize approximatively MAE\n",
    "    \"\"\"\n",
    "    fair_constant = 30\n",
    "    labels = dtrain.get_label()\n",
    "    x = (preds - labels)\n",
    "    den = abs(x) + fair_constant\n",
    "    grad = fair_constant * x / (den)\n",
    "    hess = fair_constant * fair_constant / (den * den)\n",
    "    return grad, hess\n",
    "\n",
    "def mean_absolute_err(y_true, y_pred):\n",
    "    \"\"\"\n",
    "    MAE Metric\n",
    "    \"\"\"\n",
    "    y_true = y_true\n",
    "    y_pred= y_pred.get_label()\n",
    "    return \"MAE\",np.mean(np.abs((y_true - y_pred))) \n",
    "\n",
    "def time_zone(df_meteo):\n",
    "    \"\"\"\n",
    "    Aline the 2 time zone in the meteo file and production file\n",
    "    \"\"\"\n",
    "    df_meteo[\"Date\"] = df_meteo[\"Date\"] + timedelta(hours=1)\n",
    "    df_meteo_new = df_meteo[(df_meteo[\"fc_hor\"]>=24)&(df_meteo[\"fc_hor\"]<=47)]\n",
    "    del(df_meteo)\n",
    "    gc.collect()\n",
    "    return df_meteo_new\n",
    "\n",
    "def meteo_delta_feature(df_meteo):\n",
    "    \"\"\"\n",
    "    generate meteo delta feature\n",
    "    \"\"\"\n",
    "    df_meteo[\"vit_100_delta\"] =df_meteo[\"vit_100\"] - df_meteo[\"vit_100\"].shift(1)\n",
    "    df_meteo[\"vit_10_delta\"] =df_meteo[\"vit_10\"] - df_meteo[\"vit_10\"].shift(1)\n",
    "    df_meteo[\"dir_100_delta\"] =df_meteo[\"dir_100\"] - df_meteo[\"dir_100\"].shift(1)\n",
    "    df_meteo[\"dir_10_delta\"] =df_meteo[\"dir_10\"] - df_meteo[\"dir_10\"].shift(1)\n",
    "    return \n",
    "\n",
    "def submission_generation(res,save_adr):\n",
    "    \"\"\"\n",
    "    generate submission file\n",
    "    \"\"\"\n",
    "    submission = pd.read_csv(\"..//data//submit_benchmark.csv\",sep=\";\")\n",
    "    submission[\"Date\"] = pd.to_datetime(submission[\"Date\"],format = \"%Y-%m-%d %H:%M:%S\")\n",
    "    add_feature_timestamp(submission)\n",
    "    submission =  submission[[\"Date_hour_int\",\"Eolienne\",\"Date\"]]\n",
    "    submission=pd.merge(submission,res,on=[\"Date_hour_int\",\"Eolienne\"],how=\"left\")[[\"Date\",\"Eolienne\",\"pred\"]]\n",
    "    submission.to_csv(save_adr,sep=';',header=True,index = False)\n",
    "    \n",
    "\n",
    "    "
   ]
  },
  {
   "cell_type": "markdown",
   "metadata": {},
   "source": [
    "DATA Loading"
   ]
  },
  {
   "cell_type": "code",
   "execution_count": 3,
   "metadata": {},
   "outputs": [
    {
     "name": "stdout",
     "output_type": "stream",
     "text": [
      "(12910771, 17)\n"
     ]
    }
   ],
   "source": [
    "# parc data \n",
    "folder_adr = \"..//data\"\n",
    "list_num_parc = [1,2,3]\n",
    "list_date_parc = [\"2015\",\"2016\",\"2017\"]\n",
    "list_col_parc_data_to_keep = [\"Date\",\"Eolienne\",\"Production\",\"Fonctionnement\",\"Catégorie\",\"State\",\"Etat\",\"Vent\"]\n",
    "parc_data_min = load_parc_data(folder_adr,list_num_parc,list_date_parc,list_col_parc_data_to_keep)\n",
    "\n",
    "#forecast data\n",
    "list_grille= [1,2,3,4,5,6,7,8,9,10,11,12,13,14,15,16]\n",
    "##for this example notebook, we will only take one \"grille\" (=9) \n",
    "df_meteo = create_df_meteo_from_list_grille(folder_adr,list_grille)"
   ]
  },
  {
   "cell_type": "markdown",
   "metadata": {
    "collapsed": true
   },
   "source": [
    "Feature engineering"
   ]
  },
  {
   "cell_type": "code",
   "execution_count": 4,
   "metadata": {
    "collapsed": true
   },
   "outputs": [],
   "source": [
    "# add feature and convert to hourly data\n",
    "add_feature_timestamp(parc_data_min)\n",
    "add_feature_state(parc_data_min)\n",
    "parc_data_hour =  min_to_hour(parc_data_min)\n",
    "df_meteo = time_zone(df_meteo)\n",
    "meteo_delta_feature(df_meteo)\n",
    "add_feature_timestamp(df_meteo)\n",
    "\n",
    "# we don't need the minute data any more\n",
    "del(parc_data_min)\n",
    "gc.collect()\n",
    "\n",
    "eolienne_list = get_eolienne_list(parc_data_hour)\n",
    "feature_list = [\"vit_100\",\"vit_10\",'dir_100','dir_10',\"vit_100_delta\",\"vit_10_delta\",'dir_100_delta','dir_10_delta',\"fc_hor\"]\n",
    "join_key = [\"Date_hour_int\"]\n",
    "meteo_grill_merged = meteo_grill_merge(df_meteo,feature_list,join_key)"
   ]
  },
  {
   "cell_type": "markdown",
   "metadata": {
    "collapsed": true
   },
   "source": [
    "Data merge"
   ]
  },
  {
   "cell_type": "code",
   "execution_count": 5,
   "metadata": {
    "collapsed": true
   },
   "outputs": [],
   "source": [
    "parc_data_hour = pd.merge(parc_data_hour,meteo_grill_merged,on=[\"Date_hour_int\"],how=\"left\")"
   ]
  },
  {
   "cell_type": "markdown",
   "metadata": {},
   "source": [
    "Train/test validation split "
   ]
  },
  {
   "cell_type": "code",
   "execution_count": 6,
   "metadata": {},
   "outputs": [
    {
     "name": "stderr",
     "output_type": "stream",
     "text": [
      "C:\\Users\\IA2069\\AppData\\Local\\Continuum\\Anaconda3\\lib\\site-packages\\ipykernel_launcher.py:5: SettingWithCopyWarning: \n",
      "A value is trying to be set on a copy of a slice from a DataFrame\n",
      "\n",
      "See the caveats in the documentation: http://pandas.pydata.org/pandas-docs/stable/indexing.html#indexing-view-versus-copy\n",
      "  \"\"\"\n",
      "C:\\Users\\IA2069\\AppData\\Local\\Continuum\\Anaconda3\\lib\\site-packages\\ipykernel_launcher.py:9: SettingWithCopyWarning: \n",
      "A value is trying to be set on a copy of a slice from a DataFrame\n",
      "\n",
      "See the caveats in the documentation: http://pandas.pydata.org/pandas-docs/stable/indexing.html#indexing-view-versus-copy\n",
      "  if __name__ == '__main__':\n"
     ]
    },
    {
     "name": "stdout",
     "output_type": "stream",
     "text": [
      "(189214, 158)\n",
      "(26884, 158)\n"
     ]
    }
   ],
   "source": [
    "date_split_test = 2017010100\n",
    "parc_data_hour_train = parc_data_hour[parc_data_hour[\"Date_hour_int\"]<date_split_test]\n",
    "parc_data_hour_test = parc_data_hour[parc_data_hour[\"Date_hour_int\"]>=date_split_test]\n",
    "\n",
    "parc_data_hour_train.dropna(inplace=True)\n",
    "print(parc_data_hour_train.shape)\n",
    "print(parc_data_hour_test.shape)\n",
    "\n",
    "parc_data_hour_train.sort_values(\"Date_hour_int\",inplace=True)\n",
    "parc_data_hour_train_train = parc_data_hour_train.iloc[:94618,:]\n",
    "parc_data_hour_train_test  = parc_data_hour_train.iloc[94618:189236,:]"
   ]
  },
  {
   "cell_type": "code",
   "execution_count": 9,
   "metadata": {},
   "outputs": [],
   "source": [
    "# feature use in model \n",
    "list_col_model_vitesse = [\"vit_100_11\",\"vit_10_11\",'dir_100_11','dir_10_11',\n",
    "                  \"vit_100_10\",\"vit_10_10\",'dir_100_10','dir_10_10',\n",
    "                  \"vit_100_12\",\"vit_10_12\",'dir_100_12','dir_10_12',\n",
    "                  \"vit_100_8\",\"vit_10_8\",'dir_100_8','dir_10_8',\n",
    "                  \"vit_100_7\",\"vit_10_7\",'dir_100_7','dir_10_7',\n",
    "                  \"vit_100_6\",\"vit_10_6\",'dir_100_6','dir_10_6',\n",
    "                  \"vit_100_1\",\"vit_10_1\",'dir_100_1','dir_10_1',\n",
    "                  \"vit_100_9\",\"vit_10_9\",'dir_100_9','dir_10_9',\n",
    "                  \"vit_100_2\",\"vit_10_2\",'dir_100_2','dir_10_2',\n",
    "                  \"vit_100_3\",\"vit_10_3\",'dir_100_3','dir_10_3',\n",
    "                  \"vit_100_4\",\"vit_10_4\",'dir_100_4','dir_10_4',\n",
    "                  \"vit_100_5\",\"vit_10_5\",'dir_100_5','dir_10_5',\n",
    "                  \"vit_100_13\",\"vit_10_13\",'dir_100_13','dir_10_13',\n",
    "                  \"vit_100_14\",\"vit_10_14\",'dir_100_14','dir_10_14',\n",
    "                  \"vit_100_15\",\"vit_10_15\",'dir_100_15','dir_10_15',\n",
    "                  \"vit_100_16\",\"vit_10_16\",'dir_100_16','dir_10_16'\n",
    "                 ]\n",
    "list_col_model_delta_vitesse= [\"vit_100_delta_11\",\"vit_10_delta_11\",'dir_100_delta_11','dir_10_delta_11',\n",
    "                               \"vit_100_delta_10\",\"vit_10_delta_10\",'dir_100_delta_10','dir_10_delta_10',\n",
    "                               \"vit_100_delta_12\",\"vit_10_delta_12\",'dir_100_delta_12','dir_10_delta_12',\n",
    "                               \"vit_100_delta_8\",\"vit_10_delta_8\",'dir_100_delta_8','dir_10_delta_8',\n",
    "                               \"vit_100_delta_7\",\"vit_10_delta_7\",'dir_100_delta_7','dir_10_delta_7',\n",
    "                               \"vit_100_delta_6\",\"vit_10_delta_6\",'dir_100_delta_6','dir_10_delta_6',\n",
    "                               \"vit_100_delta_1\",\"vit_10_delta_1\",'dir_100_delta_1','dir_10_delta_1',\n",
    "                               \"vit_100_delta_9\",\"vit_10_delta_9\",'dir_100_delta_9','dir_10_delta_9',\n",
    "                               \"vit_100_delta_2\",\"vit_10_delta_2\",'dir_100_delta_2','dir_10_delta_2',\n",
    "                               \"vit_100_delta_3\",\"vit_10_delta_3\",'dir_100_delta_3','dir_10_delta_3',\n",
    "                               \"vit_100_delta_4\",\"vit_10_delta_4\",'dir_100_delta_4','dir_10_delta_4',\n",
    "                               \"vit_100_delta_5\",\"vit_10_delta_5\",'dir_100_delta_5','dir_10_delta_5',\n",
    "                               \"vit_100_delta_13\",\"vit_10_delta_13\",'dir_100_delta_13','dir_10_delta_13',\n",
    "                               \"vit_100_delta_14\",\"vit_10_delta_14\",'dir_100_delta_14','dir_10_delta_14',\n",
    "                               \"vit_100_delta_15\",\"vit_10_delta_15\",'dir_100_delta_15','dir_10_delta_15',\n",
    "                               \"vit_100_delta_16\",\"vit_10_delta_16\",'dir_100_delta_16','dir_10_delta_16'    \n",
    "]\n",
    "col_target =\"Production\""
   ]
  },
  {
   "cell_type": "code",
   "execution_count": 10,
   "metadata": {
    "collapsed": true
   },
   "outputs": [],
   "source": [
    "our_params = {'eta': 0.02,  'subsample': 0.99, 'colsample_bytree': 0.95, \n",
    "              'objective': 'reg:linear', 'max_depth':20, 'min_child_weight':20}"
   ]
  },
  {
   "cell_type": "code",
   "execution_count": 11,
   "metadata": {
    "collapsed": true
   },
   "outputs": [],
   "source": [
    "list_col_model = list_col_model_vitesse+list_col_model_delta_vitesse"
   ]
  },
  {
   "cell_type": "code",
   "execution_count": null,
   "metadata": {
    "collapsed": true
   },
   "outputs": [],
   "source": [
    "parc_data_hour_train_test[\"xgb_site\"]=np.nan\n",
    "for eol_name in eolienne_list:\n",
    "    Eolienne_index = parc_data_hour_train_train[\"Eolienne\"]==eol_name\n",
    "    Eolienne_index_test = parc_data_hour_train_test[\"Eolienne\"]==eol_name\n",
    "    xgdtrain = xgb.DMatrix(parc_data_hour_train_train[Eolienne_index][list_col_model], parc_data_hour_train_train[Eolienne_index][col_target]) \n",
    "    xgdtest = xgb.DMatrix(parc_data_hour_train_test[Eolienne_index_test][list_col_model], parc_data_hour_train_test[Eolienne_index_test][col_target])\n",
    "    evallist  = [(xgdtest,'eval'), (xgdtrain,'train')]\n",
    "    print(\"mae optimiser \")\n",
    "    xgb_model = xgb.train(params = our_params ,dtrain = xgdtrain, evals=evallist, num_boost_round = 250,verbose_eval=50,obj=fair_obj,feval=mean_absolute_err)\n",
    "    print(\"rmse optimiser\")\n",
    "    xgb_model_2 = xgb.train(params = our_params ,dtrain = xgdtrain, evals=evallist, num_boost_round = 250,verbose_eval=50,feval=mean_absolute_err)\n",
    "    parc_data_hour_train_test[\"xgb_site\"][Eolienne_index_test]=xgb_model.predict(xgdtest)"
   ]
  },
  {
   "cell_type": "code",
   "execution_count": null,
   "metadata": {
    "collapsed": true
   },
   "outputs": [],
   "source": [
    "parc_data_hour_train_test[\"xgb_all\"]=np.nan    \n",
    "xgdtrain = xgb.DMatrix(parc_data_hour_train_train[list_col_model], parc_data_hour_train_train[col_target]) \n",
    "xgdtest = xgb.DMatrix(parc_data_hour_train_test[list_col_model], parc_data_hour_train_test[col_target])\n",
    "evallist  = [(xgdtest,'eval'), (xgdtrain,'train')]\n",
    "print(\"mae optimiser \")\n",
    "xgb_model = xgb.train(params = our_params ,dtrain = xgdtrain, evals=evallist, num_boost_round = 150,verbose_eval=10,obj=fair_obj,feval=mean_absolute_err)\n",
    "parc_data_hour_train_test[\"xgb_all\"] = xgb_model.predict(xgdtest)"
   ]
  },
  {
   "cell_type": "code",
   "execution_count": null,
   "metadata": {
    "collapsed": true
   },
   "outputs": [],
   "source": [
    "mean_absolute_error(parc_data_hour_train_test[col_target],(0.3*parc_data_hour_train_test[\"xgb_all\"]+1.7*parc_data_hour_train_test[\"xgb_site\"])/2)"
   ]
  },
  {
   "cell_type": "code",
   "execution_count": null,
   "metadata": {
    "collapsed": true
   },
   "outputs": [],
   "source": [
    "parc_data_hour_test.fc_hor_10.drop_duplicates()"
   ]
  },
  {
   "cell_type": "code",
   "execution_count": 14,
   "metadata": {},
   "outputs": [
    {
     "name": "stderr",
     "output_type": "stream",
     "text": [
      "C:\\Users\\IA2069\\AppData\\Local\\Continuum\\Anaconda3\\lib\\site-packages\\ipykernel_launcher.py:3: SettingWithCopyWarning: \n",
      "A value is trying to be set on a copy of a slice from a DataFrame.\n",
      "Try using .loc[row_indexer,col_indexer] = value instead\n",
      "\n",
      "See the caveats in the documentation: http://pandas.pydata.org/pandas-docs/stable/indexing.html#indexing-view-versus-copy\n",
      "  This is separate from the ipykernel package so we can avoid doing imports until\n",
      "C:\\Users\\IA2069\\AppData\\Local\\Continuum\\Anaconda3\\lib\\site-packages\\ipykernel_launcher.py:11: SettingWithCopyWarning: \n",
      "A value is trying to be set on a copy of a slice from a DataFrame\n",
      "\n",
      "See the caveats in the documentation: http://pandas.pydata.org/pandas-docs/stable/indexing.html#indexing-view-versus-copy\n",
      "  # This is added back by InteractiveShellApp.init_path()\n",
      "C:\\Users\\IA2069\\AppData\\Local\\Continuum\\Anaconda3\\lib\\site-packages\\pandas\\core\\generic.py:5088: SettingWithCopyWarning: \n",
      "A value is trying to be set on a copy of a slice from a DataFrame\n",
      "\n",
      "See the caveats in the documentation: http://pandas.pydata.org/pandas-docs/stable/indexing.html#indexing-view-versus-copy\n",
      "  self._update_inplace(new_data)\n",
      "C:\\Users\\IA2069\\AppData\\Local\\Continuum\\Anaconda3\\lib\\site-packages\\IPython\\core\\interactiveshell.py:2881: SettingWithCopyWarning: \n",
      "A value is trying to be set on a copy of a slice from a DataFrame\n",
      "\n",
      "See the caveats in the documentation: http://pandas.pydata.org/pandas-docs/stable/indexing.html#indexing-view-versus-copy\n",
      "  exec(code_obj, self.user_global_ns, self.user_ns)\n"
     ]
    }
   ],
   "source": [
    "# second validation\n",
    "res = parc_data_hour_test[[\"Date_hour_int\",\"Eolienne\"]]\n",
    "res[\"pred\"] =np.nan\n",
    "\n",
    "for eol_name in eolienne_list:\n",
    "    Eolienne_index = parc_data_hour_train[\"Eolienne\"]==eol_name\n",
    "    xgdmat = xgb.DMatrix(parc_data_hour_train[Eolienne_index][list_col_model], parc_data_hour_train[Eolienne_index][col_target])\n",
    "    xgb_model = xgb.train(params = our_params ,dtrain = xgdmat, num_boost_round = 250,verbose_eval=10,obj=fair_obj,feval=mean_absolute_err)\n",
    "    \n",
    "    Eolienne_index = parc_data_hour_test[\"Eolienne\"]==eol_name\n",
    "    res[\"pred\"][Eolienne_index]=xgb_model.predict(xgb.DMatrix(parc_data_hour_test[Eolienne_index][list_col_model]))\n",
    "save_adr = \"..//submission//sub_10_24_1_delta_feature.csv\"\n",
    "submission_generation(res,save_adr)"
   ]
  },
  {
   "cell_type": "code",
   "execution_count": null,
   "metadata": {
    "collapsed": true
   },
   "outputs": [],
   "source": [
    "res = parc_data_hour_test[[\"Date_hour_int\",\"Eolienne\"]]\n",
    "res[\"pred\"] =np.nan\n",
    "\n",
    "xgdmat = xgb.DMatrix(parc_data_hour_train[list_col_model], parc_data_hour_train[col_target])\n",
    "xgb_model = xgb.train(params = our_params ,dtrain = xgdmat, num_boost_round = 150,verbose_eval=10,obj=fair_obj,feval=mean_absolute_err)\n",
    "res[\"pred\"]=xgb_model.predict(xgb.DMatrix(parc_data_hour_test[list_col_model]))\n",
    "\n",
    "save_adr = \"..//submission//sub_09_15_all.csv\"\n",
    "submission_generation(res,save_adr)"
   ]
  },
  {
   "cell_type": "code",
   "execution_count": null,
   "metadata": {
    "collapsed": true
   },
   "outputs": [],
   "source": [
    "submission_1 = pd.read_csv(\"..//submission//sub_09_15_3.csv\",sep=\";\")\n",
    "submission_2 = pd.read_csv(\"..//submission//sub_09_15_all.csv\",sep=\";\")"
   ]
  },
  {
   "cell_type": "code",
   "execution_count": null,
   "metadata": {
    "collapsed": true
   },
   "outputs": [],
   "source": [
    "submission_1[\"pred\"] =0.85*submission_1[\"pred\"] + 0.15*submission_2[\"pred\"]"
   ]
  },
  {
   "cell_type": "code",
   "execution_count": null,
   "metadata": {
    "collapsed": true
   },
   "outputs": [],
   "source": [
    "submission_1.to_csv(\"..//submission//sub_09_15_combine.csv\",sep=';',header=True,index = False)"
   ]
  },
  {
   "cell_type": "code",
   "execution_count": 6,
   "metadata": {
    "collapsed": true
   },
   "outputs": [],
   "source": [
    "## part II fair_constant tunning"
   ]
  },
  {
   "cell_type": "code",
   "execution_count": 13,
   "metadata": {},
   "outputs": [
    {
     "name": "stdout",
     "output_type": "stream",
     "text": [
      "mae optimiser \n",
      "[0]\teval-rmse:662.786\ttrain-rmse:741.716\teval-MAE:442.22\ttrain-MAE:513.92\n"
     ]
    },
    {
     "name": "stderr",
     "output_type": "stream",
     "text": [
      "C:\\Users\\IA2069\\AppData\\Local\\Continuum\\Anaconda3\\lib\\site-packages\\ipykernel_launcher.py:2: SettingWithCopyWarning: \n",
      "A value is trying to be set on a copy of a slice from a DataFrame.\n",
      "Try using .loc[row_indexer,col_indexer] = value instead\n",
      "\n",
      "See the caveats in the documentation: http://pandas.pydata.org/pandas-docs/stable/indexing.html#indexing-view-versus-copy\n",
      "  \n"
     ]
    },
    {
     "name": "stdout",
     "output_type": "stream",
     "text": [
      "[25]\teval-rmse:380.519\ttrain-rmse:420.479\teval-MAE:250.095\ttrain-MAE:279.487\n",
      "[50]\teval-rmse:318.301\ttrain-rmse:344.436\teval-MAE:212.465\ttrain-MAE:227.507\n",
      "[75]\teval-rmse:298.85\ttrain-rmse:318.76\teval-MAE:200.258\ttrain-MAE:208.542\n",
      "[100]\teval-rmse:291.825\ttrain-rmse:306.667\teval-MAE:196.002\ttrain-MAE:199.371\n",
      "[125]\teval-rmse:289.012\ttrain-rmse:300.297\teval-MAE:194.335\ttrain-MAE:194.141\n",
      "[150]\teval-rmse:287.662\ttrain-rmse:296.242\teval-MAE:193.818\ttrain-MAE:190.565\n",
      "[175]\teval-rmse:286.898\ttrain-rmse:293.53\teval-MAE:193.599\ttrain-MAE:188.15\n",
      "[200]\teval-rmse:286.552\ttrain-rmse:291.397\teval-MAE:193.547\ttrain-MAE:186.192\n",
      "[225]\teval-rmse:286.457\ttrain-rmse:289.561\teval-MAE:193.631\ttrain-MAE:184.438\n",
      "[249]\teval-rmse:286.469\ttrain-rmse:287.899\teval-MAE:193.755\ttrain-MAE:182.842\n",
      "mae optimiser \n"
     ]
    },
    {
     "name": "stderr",
     "output_type": "stream",
     "text": [
      "C:\\Users\\IA2069\\AppData\\Local\\Continuum\\Anaconda3\\lib\\site-packages\\ipykernel_launcher.py:11: SettingWithCopyWarning: \n",
      "A value is trying to be set on a copy of a slice from a DataFrame\n",
      "\n",
      "See the caveats in the documentation: http://pandas.pydata.org/pandas-docs/stable/indexing.html#indexing-view-versus-copy\n",
      "  # This is added back by InteractiveShellApp.init_path()\n",
      "C:\\Users\\IA2069\\AppData\\Local\\Continuum\\Anaconda3\\lib\\site-packages\\pandas\\core\\generic.py:5088: SettingWithCopyWarning: \n",
      "A value is trying to be set on a copy of a slice from a DataFrame\n",
      "\n",
      "See the caveats in the documentation: http://pandas.pydata.org/pandas-docs/stable/indexing.html#indexing-view-versus-copy\n",
      "  self._update_inplace(new_data)\n",
      "C:\\Users\\IA2069\\AppData\\Local\\Continuum\\Anaconda3\\lib\\site-packages\\IPython\\core\\interactiveshell.py:2881: SettingWithCopyWarning: \n",
      "A value is trying to be set on a copy of a slice from a DataFrame\n",
      "\n",
      "See the caveats in the documentation: http://pandas.pydata.org/pandas-docs/stable/indexing.html#indexing-view-versus-copy\n",
      "  exec(code_obj, self.user_global_ns, self.user_ns)\n"
     ]
    },
    {
     "name": "stdout",
     "output_type": "stream",
     "text": [
      "[0]\teval-rmse:652.837\ttrain-rmse:712.67\teval-MAE:422.411\ttrain-MAE:487.882\n",
      "[25]\teval-rmse:427.901\ttrain-rmse:456.539\teval-MAE:268.631\ttrain-MAE:296.527\n",
      "[50]\teval-rmse:367.898\ttrain-rmse:382.878\teval-MAE:234.7\ttrain-MAE:248.289\n",
      "[75]\teval-rmse:348.475\ttrain-rmse:355.755\teval-MAE:223.306\ttrain-MAE:228.905\n",
      "[100]\teval-rmse:342.34\ttrain-rmse:344.864\teval-MAE:218.831\ttrain-MAE:219.45\n",
      "[125]\teval-rmse:340.072\ttrain-rmse:339.466\teval-MAE:217.2\ttrain-MAE:214.079\n",
      "[150]\teval-rmse:339.091\ttrain-rmse:336.29\teval-MAE:216.517\ttrain-MAE:210.58\n",
      "[175]\teval-rmse:339.182\ttrain-rmse:334.298\teval-MAE:216.539\ttrain-MAE:208.344\n",
      "[200]\teval-rmse:339.327\ttrain-rmse:332.64\teval-MAE:216.571\ttrain-MAE:206.417\n",
      "[225]\teval-rmse:339.325\ttrain-rmse:330.887\teval-MAE:216.551\ttrain-MAE:204.335\n",
      "[249]\teval-rmse:339.379\ttrain-rmse:329.333\teval-MAE:216.591\ttrain-MAE:202.358\n",
      "mae optimiser \n",
      "[0]\teval-rmse:672.163\ttrain-rmse:729.003\teval-MAE:445.134\ttrain-MAE:507.586\n",
      "[25]\teval-rmse:439.002\ttrain-rmse:460.331\teval-MAE:279.098\ttrain-MAE:302.848\n",
      "[50]\teval-rmse:378.706\ttrain-rmse:384.64\teval-MAE:241.726\ttrain-MAE:250.253\n",
      "[75]\teval-rmse:359.331\ttrain-rmse:357.785\teval-MAE:229.733\ttrain-MAE:230.418\n",
      "[100]\teval-rmse:352.746\ttrain-rmse:346.987\teval-MAE:225.736\ttrain-MAE:221.393\n",
      "[125]\teval-rmse:350.491\ttrain-rmse:341.771\teval-MAE:224.305\ttrain-MAE:216.346\n",
      "[150]\teval-rmse:349.736\ttrain-rmse:338.733\teval-MAE:223.917\ttrain-MAE:212.9\n",
      "[175]\teval-rmse:349.612\ttrain-rmse:336.738\teval-MAE:223.932\ttrain-MAE:210.211\n",
      "[200]\teval-rmse:349.092\ttrain-rmse:334.486\teval-MAE:223.714\ttrain-MAE:207.611\n",
      "[225]\teval-rmse:348.714\ttrain-rmse:332.519\teval-MAE:223.59\ttrain-MAE:205.182\n",
      "[249]\teval-rmse:348.457\ttrain-rmse:330.815\teval-MAE:223.568\ttrain-MAE:203.053\n",
      "mae optimiser \n",
      "[0]\teval-rmse:647.935\ttrain-rmse:725.762\teval-MAE:428.794\ttrain-MAE:501.31\n",
      "[25]\teval-rmse:373.774\ttrain-rmse:417.065\teval-MAE:244.1\ttrain-MAE:275.409\n",
      "[50]\teval-rmse:312.54\ttrain-rmse:342.807\teval-MAE:207.976\ttrain-MAE:224.417\n",
      "[75]\teval-rmse:293.19\ttrain-rmse:316.125\teval-MAE:195.996\ttrain-MAE:205.42\n",
      "[100]\teval-rmse:285.952\ttrain-rmse:304.516\teval-MAE:191.652\ttrain-MAE:196.431\n",
      "[125]\teval-rmse:283.215\ttrain-rmse:298.408\teval-MAE:189.745\ttrain-MAE:191.32\n",
      "[150]\teval-rmse:282.088\ttrain-rmse:294.628\teval-MAE:188.871\ttrain-MAE:187.976\n",
      "[175]\teval-rmse:281.508\ttrain-rmse:292.008\teval-MAE:188.533\ttrain-MAE:185.586\n",
      "[200]\teval-rmse:281.506\ttrain-rmse:290.2\teval-MAE:188.534\ttrain-MAE:183.901\n",
      "[225]\teval-rmse:281.508\ttrain-rmse:288.603\teval-MAE:188.567\ttrain-MAE:182.325\n",
      "[249]\teval-rmse:281.627\ttrain-rmse:287.13\teval-MAE:188.696\ttrain-MAE:180.901\n",
      "mae optimiser \n",
      "[0]\teval-rmse:616.435\ttrain-rmse:694.549\teval-MAE:393.766\ttrain-MAE:465.736\n",
      "[25]\teval-rmse:365.828\ttrain-rmse:405.295\teval-MAE:232.676\ttrain-MAE:261.515\n",
      "[50]\teval-rmse:306.744\ttrain-rmse:331.264\teval-MAE:199.895\ttrain-MAE:214.404\n",
      "[75]\teval-rmse:286.856\ttrain-rmse:303.397\teval-MAE:188.131\ttrain-MAE:196.147\n",
      "[100]\teval-rmse:279.805\ttrain-rmse:291.202\teval-MAE:183.762\ttrain-MAE:187.215\n",
      "[125]\teval-rmse:277.042\ttrain-rmse:284.923\teval-MAE:181.952\ttrain-MAE:181.926\n",
      "[150]\teval-rmse:276.043\ttrain-rmse:281.144\teval-MAE:181.25\ttrain-MAE:178.402\n",
      "[175]\teval-rmse:275.644\ttrain-rmse:278.632\teval-MAE:180.902\ttrain-MAE:175.975\n",
      "[200]\teval-rmse:275.31\ttrain-rmse:276.577\teval-MAE:180.59\ttrain-MAE:174.093\n",
      "[225]\teval-rmse:275.094\ttrain-rmse:274.824\teval-MAE:180.421\ttrain-MAE:172.482\n",
      "[249]\teval-rmse:275.058\ttrain-rmse:273.285\teval-MAE:180.432\ttrain-MAE:170.974\n",
      "mae optimiser \n",
      "[0]\teval-rmse:603.34\ttrain-rmse:670.688\teval-MAE:382.249\ttrain-MAE:442.756\n",
      "[25]\teval-rmse:362.998\ttrain-rmse:402.389\teval-MAE:228.948\ttrain-MAE:254.945\n",
      "[50]\teval-rmse:300.919\ttrain-rmse:328.554\teval-MAE:195.045\ttrain-MAE:208.409\n",
      "[75]\teval-rmse:281.023\ttrain-rmse:300.767\teval-MAE:183.745\ttrain-MAE:190.225\n",
      "[100]\teval-rmse:273.766\ttrain-rmse:288.715\teval-MAE:179.623\ttrain-MAE:181.575\n",
      "[125]\teval-rmse:271.217\ttrain-rmse:282.39\teval-MAE:178.013\ttrain-MAE:176.43\n",
      "[150]\teval-rmse:269.9\ttrain-rmse:278.261\teval-MAE:177.084\ttrain-MAE:172.956\n",
      "[175]\teval-rmse:269.715\ttrain-rmse:275.812\teval-MAE:176.83\ttrain-MAE:170.629\n",
      "[200]\teval-rmse:269.741\ttrain-rmse:274.093\teval-MAE:176.819\ttrain-MAE:168.996\n",
      "[225]\teval-rmse:269.888\ttrain-rmse:272.497\teval-MAE:176.856\ttrain-MAE:167.343\n",
      "[249]\teval-rmse:269.709\ttrain-rmse:270.983\teval-MAE:176.776\ttrain-MAE:165.919\n",
      "mae optimiser \n",
      "[0]\teval-rmse:596.349\ttrain-rmse:666.933\teval-MAE:371.941\ttrain-MAE:436.733\n",
      "[25]\teval-rmse:356.954\ttrain-rmse:391.849\teval-MAE:222.838\ttrain-MAE:249.692\n",
      "[50]\teval-rmse:297.936\ttrain-rmse:317.312\teval-MAE:190.897\ttrain-MAE:203.569\n",
      "[75]\teval-rmse:278.931\ttrain-rmse:288.663\teval-MAE:180.291\ttrain-MAE:184.965\n",
      "[100]\teval-rmse:273.043\ttrain-rmse:277.085\teval-MAE:176.671\ttrain-MAE:176.426\n",
      "[125]\teval-rmse:271.285\ttrain-rmse:271.14\teval-MAE:175.456\ttrain-MAE:171.273\n",
      "[150]\teval-rmse:270.497\ttrain-rmse:267.018\teval-MAE:175.011\ttrain-MAE:167.721\n",
      "[175]\teval-rmse:270.568\ttrain-rmse:264.227\teval-MAE:175.081\ttrain-MAE:165.208\n",
      "[200]\teval-rmse:270.855\ttrain-rmse:261.975\teval-MAE:175.181\ttrain-MAE:163.185\n",
      "[225]\teval-rmse:270.922\ttrain-rmse:260.15\teval-MAE:175.341\ttrain-MAE:161.489\n",
      "[249]\teval-rmse:270.895\ttrain-rmse:258.557\teval-MAE:175.396\ttrain-MAE:159.981\n",
      "mae optimiser \n",
      "[0]\teval-rmse:575.1\ttrain-rmse:659.297\teval-MAE:355.737\ttrain-MAE:428.576\n",
      "[25]\teval-rmse:343.921\ttrain-rmse:385.599\teval-MAE:212.696\ttrain-MAE:244.516\n",
      "[50]\teval-rmse:287.822\ttrain-rmse:310.073\teval-MAE:183.284\ttrain-MAE:198.778\n",
      "[75]\teval-rmse:270.452\ttrain-rmse:281.282\teval-MAE:174.006\ttrain-MAE:179.86\n",
      "[100]\teval-rmse:265.221\ttrain-rmse:269.483\teval-MAE:170.977\ttrain-MAE:171.185\n",
      "[125]\teval-rmse:263.704\ttrain-rmse:263.212\teval-MAE:170.051\ttrain-MAE:165.96\n",
      "[150]\teval-rmse:263.061\ttrain-rmse:258.991\teval-MAE:169.703\ttrain-MAE:162.378\n",
      "[175]\teval-rmse:263.222\ttrain-rmse:256.249\teval-MAE:169.82\ttrain-MAE:159.971\n",
      "[200]\teval-rmse:263.434\ttrain-rmse:254.34\teval-MAE:169.939\ttrain-MAE:158.206\n",
      "[225]\teval-rmse:263.63\ttrain-rmse:252.807\teval-MAE:170.052\ttrain-MAE:156.677\n",
      "[249]\teval-rmse:263.787\ttrain-rmse:251.391\teval-MAE:170.189\ttrain-MAE:155.246\n",
      "mae optimiser \n",
      "[0]\teval-rmse:577.029\ttrain-rmse:650.909\teval-MAE:348.658\ttrain-MAE:417.457\n",
      "[25]\teval-rmse:342.872\ttrain-rmse:380.289\teval-MAE:208.944\ttrain-MAE:238.188\n",
      "[50]\teval-rmse:284.975\ttrain-rmse:306.216\teval-MAE:179.553\ttrain-MAE:193.837\n",
      "[75]\teval-rmse:266.518\ttrain-rmse:278.422\teval-MAE:169.775\ttrain-MAE:176.115\n",
      "[100]\teval-rmse:260.691\ttrain-rmse:265.987\teval-MAE:166.648\ttrain-MAE:167.619\n",
      "[125]\teval-rmse:259.194\ttrain-rmse:260.268\teval-MAE:165.754\ttrain-MAE:162.89\n",
      "[150]\teval-rmse:258.904\ttrain-rmse:256.35\teval-MAE:165.668\ttrain-MAE:159.4\n",
      "[175]\teval-rmse:258.828\ttrain-rmse:253.905\teval-MAE:165.707\ttrain-MAE:157.141\n",
      "[200]\teval-rmse:258.825\ttrain-rmse:251.936\teval-MAE:165.701\ttrain-MAE:155.349\n",
      "[225]\teval-rmse:258.853\ttrain-rmse:250.424\teval-MAE:165.736\ttrain-MAE:153.932\n",
      "[249]\teval-rmse:258.897\ttrain-rmse:249.1\teval-MAE:165.864\ttrain-MAE:152.618\n",
      "mae optimiser \n",
      "[0]\teval-rmse:584.04\ttrain-rmse:650.356\teval-MAE:364.98\ttrain-MAE:423.107\n",
      "[25]\teval-rmse:350.095\ttrain-rmse:380.738\teval-MAE:218.12\ttrain-MAE:240.098\n",
      "[50]\teval-rmse:294.047\ttrain-rmse:308.357\teval-MAE:188.309\ttrain-MAE:196.083\n",
      "[75]\teval-rmse:276.454\ttrain-rmse:281.364\teval-MAE:178.496\ttrain-MAE:179.09\n",
      "[100]\teval-rmse:270.794\ttrain-rmse:269.154\teval-MAE:175.276\ttrain-MAE:170.709\n",
      "[125]\teval-rmse:269.296\ttrain-rmse:263.13\teval-MAE:174.246\ttrain-MAE:166.092\n",
      "[150]\teval-rmse:269.364\ttrain-rmse:259.506\teval-MAE:174.212\ttrain-MAE:162.845\n",
      "[175]\teval-rmse:269.372\ttrain-rmse:257.063\teval-MAE:174.164\ttrain-MAE:160.495\n",
      "[200]\teval-rmse:269.144\ttrain-rmse:254.819\teval-MAE:174.017\ttrain-MAE:158.43\n",
      "[225]\teval-rmse:268.985\ttrain-rmse:252.872\teval-MAE:173.87\ttrain-MAE:156.702\n",
      "[249]\teval-rmse:269.185\ttrain-rmse:251.374\teval-MAE:173.978\ttrain-MAE:155.359\n",
      "mae optimiser \n",
      "[0]\teval-rmse:642.956\ttrain-rmse:723.776\teval-MAE:420.638\ttrain-MAE:500.658\n",
      "[25]\teval-rmse:410.938\ttrain-rmse:447.392\teval-MAE:264.044\ttrain-MAE:297.061\n",
      "[50]\teval-rmse:356.981\ttrain-rmse:370.238\teval-MAE:231.373\ttrain-MAE:244.662\n",
      "[75]\teval-rmse:343.069\ttrain-rmse:344.694\teval-MAE:221.539\ttrain-MAE:224.964\n",
      "[100]\teval-rmse:338.439\ttrain-rmse:333.543\teval-MAE:218.574\ttrain-MAE:215.842\n",
      "[125]\teval-rmse:337.453\ttrain-rmse:328.264\teval-MAE:217.871\ttrain-MAE:211.04\n"
     ]
    },
    {
     "name": "stdout",
     "output_type": "stream",
     "text": [
      "[150]\teval-rmse:337.578\ttrain-rmse:325.236\teval-MAE:217.796\ttrain-MAE:207.705\n",
      "[175]\teval-rmse:337.766\ttrain-rmse:322.995\teval-MAE:217.957\ttrain-MAE:205.113\n",
      "[200]\teval-rmse:338.087\ttrain-rmse:321.299\teval-MAE:218.138\ttrain-MAE:203.15\n",
      "[225]\teval-rmse:338.306\ttrain-rmse:319.947\teval-MAE:218.234\ttrain-MAE:201.564\n",
      "[249]\teval-rmse:338.443\ttrain-rmse:318.674\teval-MAE:218.443\ttrain-MAE:200.144\n"
     ]
    }
   ],
   "source": [
    "# the defaut value is set to 30\n",
    "parc_data_hour_train_test[\"xgb_site\"]=np.nan\n",
    "for eol_name in eolienne_list:\n",
    "    Eolienne_index = parc_data_hour_train_train[\"Eolienne\"]==eol_name\n",
    "    Eolienne_index_test = parc_data_hour_train_test[\"Eolienne\"]==eol_name\n",
    "    xgdtrain = xgb.DMatrix(parc_data_hour_train_train[Eolienne_index][list_col_model], parc_data_hour_train_train[Eolienne_index][col_target]) \n",
    "    xgdtest = xgb.DMatrix(parc_data_hour_train_test[Eolienne_index_test][list_col_model], parc_data_hour_train_test[Eolienne_index_test][col_target])\n",
    "    evallist  = [(xgdtest,'eval'), (xgdtrain,'train')]\n",
    "    print(\"mae optimiser \")\n",
    "    xgb_model = xgb.train(params = our_params ,dtrain = xgdtrain, evals=evallist, num_boost_round = 250,verbose_eval=25,obj=fair_obj,feval=mean_absolute_err)\n",
    "    parc_data_hour_train_test[\"xgb_site\"][Eolienne_index_test]=xgb_model.predict(xgdtest)"
   ]
  },
  {
   "cell_type": "code",
   "execution_count": 12,
   "metadata": {},
   "outputs": [
    {
     "name": "stderr",
     "output_type": "stream",
     "text": [
      "C:\\Users\\IA2069\\AppData\\Local\\Continuum\\Anaconda3\\lib\\site-packages\\ipykernel_launcher.py:1: SettingWithCopyWarning: \n",
      "A value is trying to be set on a copy of a slice from a DataFrame.\n",
      "Try using .loc[row_indexer,col_indexer] = value instead\n",
      "\n",
      "See the caveats in the documentation: http://pandas.pydata.org/pandas-docs/stable/indexing.html#indexing-view-versus-copy\n",
      "  \"\"\"Entry point for launching an IPython kernel.\n"
     ]
    },
    {
     "name": "stdout",
     "output_type": "stream",
     "text": [
      "mae optimiser \n",
      "[0]\teval-rmse:660.275\ttrain-rmse:738.831\teval-MAE:441.005\ttrain-MAE:512.232\n",
      "[25]\teval-rmse:377.218\ttrain-rmse:418.875\teval-MAE:247.487\ttrain-MAE:278.123\n",
      "[50]\teval-rmse:311.68\ttrain-rmse:339.142\teval-MAE:208.943\ttrain-MAE:224.837\n",
      "[75]\teval-rmse:289.236\ttrain-rmse:309.243\teval-MAE:194.67\ttrain-MAE:202.479\n",
      "[100]\teval-rmse:281.431\ttrain-rmse:295.967\teval-MAE:189.811\ttrain-MAE:192.057\n",
      "[125]\teval-rmse:278.297\ttrain-rmse:288.889\teval-MAE:187.722\ttrain-MAE:185.939\n",
      "[150]\teval-rmse:276.839\ttrain-rmse:284.362\teval-MAE:187.005\ttrain-MAE:181.761\n",
      "[175]\teval-rmse:276.025\ttrain-rmse:281.077\teval-MAE:186.528\ttrain-MAE:178.652\n",
      "[200]\teval-rmse:275.585\ttrain-rmse:278.449\teval-MAE:186.422\ttrain-MAE:176.293\n",
      "[225]\teval-rmse:275.089\ttrain-rmse:275.835\teval-MAE:186.142\ttrain-MAE:173.783\n",
      "[249]\teval-rmse:274.815\ttrain-rmse:273.784\teval-MAE:185.935\ttrain-MAE:171.802\n"
     ]
    },
    {
     "name": "stderr",
     "output_type": "stream",
     "text": [
      "C:\\Users\\IA2069\\AppData\\Local\\Continuum\\Anaconda3\\lib\\site-packages\\ipykernel_launcher.py:10: SettingWithCopyWarning: \n",
      "A value is trying to be set on a copy of a slice from a DataFrame\n",
      "\n",
      "See the caveats in the documentation: http://pandas.pydata.org/pandas-docs/stable/indexing.html#indexing-view-versus-copy\n",
      "  # Remove the CWD from sys.path while we load stuff.\n",
      "C:\\Users\\IA2069\\AppData\\Local\\Continuum\\Anaconda3\\lib\\site-packages\\pandas\\core\\generic.py:5088: SettingWithCopyWarning: \n",
      "A value is trying to be set on a copy of a slice from a DataFrame\n",
      "\n",
      "See the caveats in the documentation: http://pandas.pydata.org/pandas-docs/stable/indexing.html#indexing-view-versus-copy\n",
      "  self._update_inplace(new_data)\n",
      "C:\\Users\\IA2069\\AppData\\Local\\Continuum\\Anaconda3\\lib\\site-packages\\IPython\\core\\interactiveshell.py:2881: SettingWithCopyWarning: \n",
      "A value is trying to be set on a copy of a slice from a DataFrame\n",
      "\n",
      "See the caveats in the documentation: http://pandas.pydata.org/pandas-docs/stable/indexing.html#indexing-view-versus-copy\n",
      "  exec(code_obj, self.user_global_ns, self.user_ns)\n"
     ]
    },
    {
     "name": "stdout",
     "output_type": "stream",
     "text": [
      "mae optimiser \n",
      "[0]\teval-rmse:653.021\ttrain-rmse:712.697\teval-MAE:422.721\ttrain-MAE:487.955\n",
      "[25]\teval-rmse:425.193\ttrain-rmse:455.24\teval-MAE:265.842\ttrain-MAE:294.253\n",
      "[50]\teval-rmse:364.321\ttrain-rmse:380.306\teval-MAE:231.551\ttrain-MAE:244.649\n",
      "[75]\teval-rmse:344.218\ttrain-rmse:352.228\teval-MAE:219.659\ttrain-MAE:224.591\n",
      "[100]\teval-rmse:337.002\ttrain-rmse:340.115\teval-MAE:214.762\ttrain-MAE:214.49\n",
      "[125]\teval-rmse:333.999\ttrain-rmse:333.768\teval-MAE:212.695\ttrain-MAE:208.454\n",
      "[150]\teval-rmse:333.095\ttrain-rmse:330.254\teval-MAE:211.928\ttrain-MAE:204.731\n",
      "[175]\teval-rmse:332.884\ttrain-rmse:328.182\teval-MAE:211.648\ttrain-MAE:202.381\n",
      "[200]\teval-rmse:332.745\ttrain-rmse:326.233\teval-MAE:211.567\ttrain-MAE:200.016\n",
      "[225]\teval-rmse:332.595\ttrain-rmse:324.496\teval-MAE:211.642\ttrain-MAE:197.893\n",
      "[249]\teval-rmse:332.561\ttrain-rmse:322.507\teval-MAE:211.6\ttrain-MAE:195.673\n",
      "mae optimiser \n",
      "[0]\teval-rmse:673.162\ttrain-rmse:730.22\teval-MAE:445.609\ttrain-MAE:508.114\n",
      "[25]\teval-rmse:438.814\ttrain-rmse:461.797\teval-MAE:277.055\ttrain-MAE:301.689\n",
      "[50]\teval-rmse:376.847\ttrain-rmse:383.945\teval-MAE:239.666\ttrain-MAE:248.621\n",
      "[75]\teval-rmse:356.658\ttrain-rmse:354.94\teval-MAE:228.193\ttrain-MAE:227.333\n",
      "[100]\teval-rmse:349.604\ttrain-rmse:342.951\teval-MAE:223.986\ttrain-MAE:217.22\n",
      "[125]\teval-rmse:346.265\ttrain-rmse:336.092\teval-MAE:221.975\ttrain-MAE:210.838\n",
      "[150]\teval-rmse:345.578\ttrain-rmse:332.656\teval-MAE:221.599\ttrain-MAE:206.945\n",
      "[175]\teval-rmse:345.534\ttrain-rmse:330.517\teval-MAE:221.637\ttrain-MAE:204.291\n",
      "[200]\teval-rmse:345.656\ttrain-rmse:328.908\teval-MAE:221.779\ttrain-MAE:202.156\n",
      "[225]\teval-rmse:345.44\ttrain-rmse:327.103\teval-MAE:221.605\ttrain-MAE:199.923\n",
      "[249]\teval-rmse:345.209\ttrain-rmse:325.324\teval-MAE:221.526\ttrain-MAE:197.684\n",
      "mae optimiser \n",
      "[0]\teval-rmse:647.862\ttrain-rmse:725.651\teval-MAE:428.972\ttrain-MAE:501.323\n",
      "[25]\teval-rmse:368.075\ttrain-rmse:413.398\teval-MAE:240.258\ttrain-MAE:272.843\n",
      "[50]\teval-rmse:303.356\ttrain-rmse:336.211\teval-MAE:202.336\ttrain-MAE:220.432\n",
      "[75]\teval-rmse:281.614\ttrain-rmse:306.97\teval-MAE:188.8\ttrain-MAE:199.196\n",
      "[100]\teval-rmse:274.204\ttrain-rmse:294.084\teval-MAE:183.926\ttrain-MAE:188.917\n",
      "[125]\teval-rmse:271.515\ttrain-rmse:287.196\teval-MAE:182.11\ttrain-MAE:183.004\n",
      "[150]\teval-rmse:270.418\ttrain-rmse:283.078\teval-MAE:181.215\ttrain-MAE:179.003\n",
      "[175]\teval-rmse:270.064\ttrain-rmse:280.321\teval-MAE:180.82\ttrain-MAE:176.272\n",
      "[200]\teval-rmse:269.687\ttrain-rmse:278.013\teval-MAE:180.592\ttrain-MAE:174.15\n",
      "[225]\teval-rmse:269.672\ttrain-rmse:276.052\teval-MAE:180.629\ttrain-MAE:172.192\n",
      "[249]\teval-rmse:269.593\ttrain-rmse:274.078\teval-MAE:180.652\ttrain-MAE:170.3\n",
      "mae optimiser \n",
      "[0]\teval-rmse:615.804\ttrain-rmse:693.981\teval-MAE:392.999\ttrain-MAE:465.223\n",
      "[25]\teval-rmse:358.395\ttrain-rmse:399.231\teval-MAE:227.632\ttrain-MAE:256.904\n",
      "[50]\teval-rmse:297.152\ttrain-rmse:322.67\teval-MAE:193.613\ttrain-MAE:208.084\n",
      "[75]\teval-rmse:275.664\ttrain-rmse:292.727\teval-MAE:181.344\ttrain-MAE:188.343\n",
      "[100]\teval-rmse:267.597\ttrain-rmse:279.421\teval-MAE:176.206\ttrain-MAE:178.358\n",
      "[125]\teval-rmse:264.606\ttrain-rmse:272.55\teval-MAE:174.008\ttrain-MAE:172.335\n",
      "[150]\teval-rmse:263.646\ttrain-rmse:268.449\teval-MAE:173.153\ttrain-MAE:168.289\n",
      "[175]\teval-rmse:263.207\ttrain-rmse:265.637\teval-MAE:172.861\ttrain-MAE:165.704\n",
      "[200]\teval-rmse:263.1\ttrain-rmse:263.56\teval-MAE:172.749\ttrain-MAE:163.791\n",
      "[225]\teval-rmse:263.074\ttrain-rmse:261.651\teval-MAE:172.688\ttrain-MAE:161.995\n",
      "[249]\teval-rmse:263.068\ttrain-rmse:259.694\teval-MAE:172.686\ttrain-MAE:160.128\n",
      "mae optimiser \n",
      "[0]\teval-rmse:601.925\ttrain-rmse:669.33\teval-MAE:380.765\ttrain-MAE:441.451\n",
      "[25]\teval-rmse:356.718\ttrain-rmse:397.276\teval-MAE:224.276\ttrain-MAE:250.71\n",
      "[50]\teval-rmse:292.72\ttrain-rmse:321.9\teval-MAE:189.959\ttrain-MAE:203.783\n",
      "[75]\teval-rmse:271.069\ttrain-rmse:292.698\teval-MAE:178.058\ttrain-MAE:184.613\n",
      "[100]\teval-rmse:262.931\ttrain-rmse:279.446\teval-MAE:173.266\ttrain-MAE:175.215\n",
      "[125]\teval-rmse:259.694\ttrain-rmse:272.022\teval-MAE:171.13\ttrain-MAE:169.336\n",
      "[150]\teval-rmse:258.655\ttrain-rmse:267.582\teval-MAE:170.383\ttrain-MAE:165.525\n",
      "[175]\teval-rmse:258.469\ttrain-rmse:264.909\teval-MAE:170.196\ttrain-MAE:162.989\n",
      "[200]\teval-rmse:258.444\ttrain-rmse:263.005\teval-MAE:170.109\ttrain-MAE:161.178\n",
      "[225]\teval-rmse:258.624\ttrain-rmse:261.088\teval-MAE:170.171\ttrain-MAE:159.251\n",
      "[249]\teval-rmse:258.656\ttrain-rmse:259.453\teval-MAE:170.149\ttrain-MAE:157.703\n",
      "mae optimiser \n",
      "[0]\teval-rmse:594.581\ttrain-rmse:664.889\teval-MAE:370.809\ttrain-MAE:435.176\n",
      "[25]\teval-rmse:352.14\ttrain-rmse:388.525\teval-MAE:219.443\ttrain-MAE:247.029\n",
      "[50]\teval-rmse:290.383\ttrain-rmse:310.693\teval-MAE:186.723\ttrain-MAE:199.425\n",
      "[75]\teval-rmse:269.861\ttrain-rmse:280.508\teval-MAE:175.281\ttrain-MAE:179.817\n",
      "[100]\teval-rmse:263.093\ttrain-rmse:266.741\teval-MAE:171.13\ttrain-MAE:169.868\n",
      "[125]\teval-rmse:260.924\ttrain-rmse:259.681\teval-MAE:169.678\ttrain-MAE:163.996\n",
      "[150]\teval-rmse:260.275\ttrain-rmse:255.546\teval-MAE:169.31\ttrain-MAE:160.353\n",
      "[175]\teval-rmse:259.965\ttrain-rmse:252.409\teval-MAE:169.148\ttrain-MAE:157.581\n",
      "[200]\teval-rmse:259.998\ttrain-rmse:249.633\teval-MAE:169.22\ttrain-MAE:155.153\n",
      "[225]\teval-rmse:260.036\ttrain-rmse:247.123\teval-MAE:169.331\ttrain-MAE:152.99\n",
      "[249]\teval-rmse:260.058\ttrain-rmse:245.114\teval-MAE:169.441\ttrain-MAE:151.166\n",
      "mae optimiser \n",
      "[0]\teval-rmse:573.223\ttrain-rmse:657.715\teval-MAE:354.113\ttrain-MAE:427.223\n",
      "[25]\teval-rmse:339.888\ttrain-rmse:382.016\teval-MAE:210.324\ttrain-MAE:242.021\n",
      "[50]\teval-rmse:281.323\ttrain-rmse:303.118\teval-MAE:180.206\ttrain-MAE:194.437\n",
      "[75]\teval-rmse:262.281\ttrain-rmse:272.961\teval-MAE:169.802\ttrain-MAE:174.666\n",
      "[100]\teval-rmse:255.794\ttrain-rmse:259.382\teval-MAE:165.851\ttrain-MAE:164.974\n",
      "[125]\teval-rmse:253.751\ttrain-rmse:252.448\teval-MAE:164.451\ttrain-MAE:159.378\n",
      "[150]\teval-rmse:253.07\ttrain-rmse:248.177\teval-MAE:164.022\ttrain-MAE:155.732\n",
      "[175]\teval-rmse:252.761\ttrain-rmse:245.023\teval-MAE:163.956\ttrain-MAE:153.04\n",
      "[200]\teval-rmse:252.706\ttrain-rmse:242.733\teval-MAE:164.01\ttrain-MAE:151.009\n",
      "[225]\teval-rmse:252.635\ttrain-rmse:240.425\teval-MAE:164.007\ttrain-MAE:148.875\n",
      "[249]\teval-rmse:252.591\ttrain-rmse:238.202\teval-MAE:163.978\ttrain-MAE:146.89\n",
      "mae optimiser \n",
      "[0]\teval-rmse:579.202\ttrain-rmse:652.6\teval-MAE:350.22\ttrain-MAE:418.245\n",
      "[25]\teval-rmse:337.613\ttrain-rmse:376.319\teval-MAE:206.097\ttrain-MAE:235.259\n",
      "[50]\teval-rmse:278.043\ttrain-rmse:299.984\teval-MAE:175.896\ttrain-MAE:189.972\n",
      "[75]\teval-rmse:257.983\ttrain-rmse:270.335\teval-MAE:165.057\ttrain-MAE:171\n",
      "[100]\teval-rmse:251.506\ttrain-rmse:256.913\teval-MAE:161.463\ttrain-MAE:161.879\n",
      "[125]\teval-rmse:249.362\ttrain-rmse:249.981\teval-MAE:160.131\ttrain-MAE:156.285\n",
      "[150]\teval-rmse:248.598\ttrain-rmse:245.819\teval-MAE:159.68\ttrain-MAE:152.684\n",
      "[175]\teval-rmse:248.393\ttrain-rmse:243.123\teval-MAE:159.643\ttrain-MAE:150.294\n",
      "[200]\teval-rmse:248.514\ttrain-rmse:240.945\teval-MAE:159.759\ttrain-MAE:148.321\n",
      "[225]\teval-rmse:248.499\ttrain-rmse:238.365\teval-MAE:159.81\ttrain-MAE:146.083\n",
      "[249]\teval-rmse:248.553\ttrain-rmse:236.441\teval-MAE:159.898\ttrain-MAE:144.364\n",
      "mae optimiser \n",
      "[0]\teval-rmse:582.847\ttrain-rmse:649.164\teval-MAE:363.695\ttrain-MAE:421.802\n",
      "[25]\teval-rmse:345.125\ttrain-rmse:376.792\teval-MAE:215.001\ttrain-MAE:237.431\n",
      "[50]\teval-rmse:286.188\ttrain-rmse:300.747\teval-MAE:183.544\ttrain-MAE:191.731\n",
      "[75]\teval-rmse:267.171\ttrain-rmse:271.281\teval-MAE:172.994\ttrain-MAE:172.852\n",
      "[100]\teval-rmse:260.142\ttrain-rmse:257.748\teval-MAE:168.993\ttrain-MAE:163.391\n",
      "[125]\teval-rmse:258.276\ttrain-rmse:250.821\teval-MAE:167.579\ttrain-MAE:157.981\n",
      "[150]\teval-rmse:257.967\ttrain-rmse:246.626\teval-MAE:167.211\ttrain-MAE:153.987\n",
      "[175]\teval-rmse:257.547\ttrain-rmse:243.219\teval-MAE:166.941\ttrain-MAE:150.987\n",
      "[200]\teval-rmse:257.468\ttrain-rmse:240.956\teval-MAE:166.839\ttrain-MAE:149.046\n",
      "[225]\teval-rmse:257.638\ttrain-rmse:239.122\teval-MAE:166.9\ttrain-MAE:147.43\n",
      "[249]\teval-rmse:257.794\ttrain-rmse:237.579\teval-MAE:166.959\ttrain-MAE:146.05\n",
      "mae optimiser \n",
      "[0]\teval-rmse:644.802\ttrain-rmse:725.562\teval-MAE:421.897\ttrain-MAE:501.708\n",
      "[25]\teval-rmse:408.985\ttrain-rmse:444.997\teval-MAE:262.56\ttrain-MAE:293.987\n",
      "[50]\teval-rmse:352.79\ttrain-rmse:366.139\teval-MAE:228.268\ttrain-MAE:240.289\n",
      "[75]\teval-rmse:338.185\ttrain-rmse:339.309\teval-MAE:217.654\ttrain-MAE:219.388\n",
      "[100]\teval-rmse:333.422\ttrain-rmse:327.687\teval-MAE:214.251\ttrain-MAE:209.671\n",
      "[125]\teval-rmse:332.234\ttrain-rmse:321.809\teval-MAE:213.25\ttrain-MAE:204.282\n"
     ]
    },
    {
     "name": "stdout",
     "output_type": "stream",
     "text": [
      "[150]\teval-rmse:332.324\ttrain-rmse:318.477\teval-MAE:213.194\ttrain-MAE:200.477\n",
      "[175]\teval-rmse:332.533\ttrain-rmse:316.259\teval-MAE:213.295\ttrain-MAE:197.972\n",
      "[200]\teval-rmse:332.784\ttrain-rmse:314.442\teval-MAE:213.436\ttrain-MAE:195.995\n",
      "[225]\teval-rmse:332.893\ttrain-rmse:312.768\teval-MAE:213.546\ttrain-MAE:194.178\n",
      "[249]\teval-rmse:332.884\ttrain-rmse:310.897\teval-MAE:213.679\ttrain-MAE:192.227\n"
     ]
    }
   ],
   "source": [
    "parc_data_hour_train_test[\"xgb_site\"]=np.nan\n",
    "for eol_name in eolienne_list:\n",
    "    Eolienne_index = parc_data_hour_train_train[\"Eolienne\"]==eol_name\n",
    "    Eolienne_index_test = parc_data_hour_train_test[\"Eolienne\"]==eol_name\n",
    "    xgdtrain = xgb.DMatrix(parc_data_hour_train_train[Eolienne_index][list_col_model], parc_data_hour_train_train[Eolienne_index][col_target]) \n",
    "    xgdtest = xgb.DMatrix(parc_data_hour_train_test[Eolienne_index_test][list_col_model], parc_data_hour_train_test[Eolienne_index_test][col_target])\n",
    "    evallist  = [(xgdtest,'eval'), (xgdtrain,'train')]\n",
    "    print(\"mae optimiser \")\n",
    "    xgb_model = xgb.train(params = our_params ,dtrain = xgdtrain, evals=evallist, num_boost_round = 250,verbose_eval=25,obj=fair_obj,feval=mean_absolute_err)\n",
    "    parc_data_hour_train_test[\"xgb_site\"][Eolienne_index_test]=xgb_model.predict(xgdtest)"
   ]
  },
  {
   "cell_type": "code",
   "execution_count": 14,
   "metadata": {},
   "outputs": [
    {
     "data": {
      "text/plain": [
       "189.54900928834138"
      ]
     },
     "execution_count": 14,
     "metadata": {},
     "output_type": "execute_result"
    }
   ],
   "source": [
    "mean_absolute_error(parc_data_hour_train_test[col_target],parc_data_hour_train_test[\"xgb_site\"])"
   ]
  },
  {
   "cell_type": "code",
   "execution_count": 17,
   "metadata": {
    "collapsed": true
   },
   "outputs": [],
   "source": [
    "def fair_obj(preds, dtrain):\n",
    "    \"\"\"\n",
    "    fair_obj function to optimize approximatively MAE\n",
    "    \"\"\"\n",
    "    fair_constant = 35\n",
    "    labels = dtrain.get_label()\n",
    "    x = (preds - labels)\n",
    "    den = abs(x) + fair_constant\n",
    "    grad = fair_constant * x / (den)\n",
    "    hess = fair_constant * fair_constant / (den * den)\n",
    "    return grad, hess"
   ]
  },
  {
   "cell_type": "code",
   "execution_count": 19,
   "metadata": {},
   "outputs": [
    {
     "name": "stdout",
     "output_type": "stream",
     "text": [
      "mae optimiser \n",
      "[0]\teval-rmse:658.68\ttrain-rmse:736.918\teval-MAE:440.364\ttrain-MAE:511.558\n"
     ]
    },
    {
     "name": "stderr",
     "output_type": "stream",
     "text": [
      "C:\\Users\\IA2069\\AppData\\Local\\Continuum\\Anaconda3\\lib\\site-packages\\ipykernel_launcher.py:2: SettingWithCopyWarning: \n",
      "A value is trying to be set on a copy of a slice from a DataFrame.\n",
      "Try using .loc[row_indexer,col_indexer] = value instead\n",
      "\n",
      "See the caveats in the documentation: http://pandas.pydata.org/pandas-docs/stable/indexing.html#indexing-view-versus-copy\n",
      "  \n"
     ]
    },
    {
     "name": "stdout",
     "output_type": "stream",
     "text": [
      "[25]\teval-rmse:374.292\ttrain-rmse:414.169\teval-MAE:247.004\ttrain-MAE:275.794\n",
      "[50]\teval-rmse:315.156\ttrain-rmse:341.409\teval-MAE:210.281\ttrain-MAE:224.589\n",
      "[75]\teval-rmse:296.515\ttrain-rmse:315.649\teval-MAE:198.611\ttrain-MAE:205.555\n",
      "[100]\teval-rmse:289.955\ttrain-rmse:303.787\teval-MAE:194.945\ttrain-MAE:196.47\n",
      "[125]\teval-rmse:287.446\ttrain-rmse:297.125\teval-MAE:193.583\ttrain-MAE:191.008\n",
      "[150]\teval-rmse:286.444\ttrain-rmse:292.865\teval-MAE:193.152\ttrain-MAE:187.358\n",
      "[175]\teval-rmse:285.886\ttrain-rmse:289.685\teval-MAE:192.963\ttrain-MAE:184.583\n",
      "[199]\teval-rmse:285.55\ttrain-rmse:287.196\teval-MAE:192.87\ttrain-MAE:182.414\n",
      "mae optimiser \n"
     ]
    },
    {
     "name": "stderr",
     "output_type": "stream",
     "text": [
      "C:\\Users\\IA2069\\AppData\\Local\\Continuum\\Anaconda3\\lib\\site-packages\\ipykernel_launcher.py:11: SettingWithCopyWarning: \n",
      "A value is trying to be set on a copy of a slice from a DataFrame\n",
      "\n",
      "See the caveats in the documentation: http://pandas.pydata.org/pandas-docs/stable/indexing.html#indexing-view-versus-copy\n",
      "  # This is added back by InteractiveShellApp.init_path()\n",
      "C:\\Users\\IA2069\\AppData\\Local\\Continuum\\Anaconda3\\lib\\site-packages\\pandas\\core\\generic.py:5088: SettingWithCopyWarning: \n",
      "A value is trying to be set on a copy of a slice from a DataFrame\n",
      "\n",
      "See the caveats in the documentation: http://pandas.pydata.org/pandas-docs/stable/indexing.html#indexing-view-versus-copy\n",
      "  self._update_inplace(new_data)\n",
      "C:\\Users\\IA2069\\AppData\\Local\\Continuum\\Anaconda3\\lib\\site-packages\\IPython\\core\\interactiveshell.py:2881: SettingWithCopyWarning: \n",
      "A value is trying to be set on a copy of a slice from a DataFrame\n",
      "\n",
      "See the caveats in the documentation: http://pandas.pydata.org/pandas-docs/stable/indexing.html#indexing-view-versus-copy\n",
      "  exec(code_obj, self.user_global_ns, self.user_ns)\n"
     ]
    },
    {
     "name": "stdout",
     "output_type": "stream",
     "text": [
      "[0]\teval-rmse:650.364\ttrain-rmse:709.788\teval-MAE:421.163\ttrain-MAE:486.239\n",
      "[25]\teval-rmse:422.65\ttrain-rmse:450.756\teval-MAE:266.268\ttrain-MAE:293.34\n",
      "[50]\teval-rmse:364.605\ttrain-rmse:378.75\teval-MAE:232.682\ttrain-MAE:245.162\n",
      "[75]\teval-rmse:346.365\ttrain-rmse:352.898\teval-MAE:221.216\ttrain-MAE:226.049\n",
      "[100]\teval-rmse:340.76\ttrain-rmse:342.51\teval-MAE:217.42\ttrain-MAE:216.776\n",
      "[125]\teval-rmse:339.044\ttrain-rmse:337.137\teval-MAE:216.3\ttrain-MAE:211.328\n",
      "[150]\teval-rmse:338.52\ttrain-rmse:333.641\teval-MAE:216.059\ttrain-MAE:207.64\n",
      "[175]\teval-rmse:338.422\ttrain-rmse:331.305\teval-MAE:215.991\ttrain-MAE:205.065\n",
      "[199]\teval-rmse:338.557\ttrain-rmse:329.66\teval-MAE:216.161\ttrain-MAE:203.205\n",
      "mae optimiser \n",
      "[0]\teval-rmse:670.496\ttrain-rmse:727.064\teval-MAE:444.132\ttrain-MAE:506.363\n",
      "[25]\teval-rmse:434.277\ttrain-rmse:453.749\teval-MAE:276.537\ttrain-MAE:299.039\n",
      "[50]\teval-rmse:375.165\ttrain-rmse:379.242\teval-MAE:239.472\ttrain-MAE:246.165\n",
      "[75]\teval-rmse:357.452\ttrain-rmse:354.351\teval-MAE:228.164\ttrain-MAE:227.306\n",
      "[100]\teval-rmse:351.491\ttrain-rmse:343.879\teval-MAE:224.495\ttrain-MAE:218.282\n",
      "[125]\teval-rmse:349.385\ttrain-rmse:338.594\teval-MAE:223.315\ttrain-MAE:213.02\n",
      "[150]\teval-rmse:348.747\ttrain-rmse:335.464\teval-MAE:223.086\ttrain-MAE:209.272\n",
      "[175]\teval-rmse:348.707\ttrain-rmse:333.299\teval-MAE:223.161\ttrain-MAE:206.388\n",
      "[199]\teval-rmse:348.636\ttrain-rmse:331.376\teval-MAE:223.243\ttrain-MAE:204.081\n",
      "mae optimiser \n",
      "[0]\teval-rmse:645.886\ttrain-rmse:723.274\teval-MAE:427.987\ttrain-MAE:500.065\n",
      "[25]\teval-rmse:367.971\ttrain-rmse:409.543\teval-MAE:241.485\ttrain-MAE:270.904\n",
      "[50]\teval-rmse:309.821\ttrain-rmse:339.235\teval-MAE:206.329\ttrain-MAE:221.495\n",
      "[75]\teval-rmse:290.765\ttrain-rmse:313.169\teval-MAE:194.372\ttrain-MAE:202.421\n",
      "[100]\teval-rmse:284.671\ttrain-rmse:301.916\teval-MAE:190.684\ttrain-MAE:193.664\n",
      "[125]\teval-rmse:282.4\ttrain-rmse:295.703\teval-MAE:189.188\ttrain-MAE:188.625\n",
      "[150]\teval-rmse:281.447\ttrain-rmse:291.542\teval-MAE:188.491\ttrain-MAE:185.084\n",
      "[175]\teval-rmse:280.828\ttrain-rmse:288.672\teval-MAE:188.118\ttrain-MAE:182.648\n",
      "[199]\teval-rmse:280.655\ttrain-rmse:286.515\teval-MAE:188.048\ttrain-MAE:180.626\n",
      "mae optimiser \n",
      "[0]\teval-rmse:614.022\ttrain-rmse:691.768\teval-MAE:392.478\ttrain-MAE:464.09\n",
      "[25]\teval-rmse:360.581\ttrain-rmse:397.884\teval-MAE:230.623\ttrain-MAE:257.148\n",
      "[50]\teval-rmse:303.951\ttrain-rmse:326.884\teval-MAE:198.39\ttrain-MAE:210.686\n",
      "[75]\teval-rmse:284.934\ttrain-rmse:300.082\teval-MAE:186.878\ttrain-MAE:192.874\n",
      "[100]\teval-rmse:278.673\ttrain-rmse:288.49\teval-MAE:182.863\ttrain-MAE:184.304\n",
      "[125]\teval-rmse:276.203\ttrain-rmse:282.137\teval-MAE:181.371\ttrain-MAE:179.009\n",
      "[150]\teval-rmse:275.262\ttrain-rmse:278.084\teval-MAE:180.686\ttrain-MAE:175.29\n",
      "[175]\teval-rmse:274.891\ttrain-rmse:275.089\teval-MAE:180.296\ttrain-MAE:172.707\n",
      "[199]\teval-rmse:274.796\ttrain-rmse:273.007\teval-MAE:180.219\ttrain-MAE:170.841\n",
      "mae optimiser \n",
      "[0]\teval-rmse:601\ttrain-rmse:668.034\teval-MAE:380.954\ttrain-MAE:441.114\n",
      "[25]\teval-rmse:356.333\ttrain-rmse:393.767\teval-MAE:226.3\ttrain-MAE:250.202\n",
      "[50]\teval-rmse:298.365\ttrain-rmse:323.389\teval-MAE:193.819\ttrain-MAE:204.609\n",
      "[75]\teval-rmse:279.552\ttrain-rmse:296.986\teval-MAE:183.022\ttrain-MAE:186.757\n",
      "[100]\teval-rmse:273.602\ttrain-rmse:285.443\teval-MAE:179.368\ttrain-MAE:178.293\n",
      "[125]\teval-rmse:271.268\ttrain-rmse:279.172\teval-MAE:177.874\ttrain-MAE:173.321\n",
      "[150]\teval-rmse:270.344\ttrain-rmse:275.14\teval-MAE:177.228\ttrain-MAE:169.806\n",
      "[175]\teval-rmse:269.984\ttrain-rmse:272.524\teval-MAE:176.918\ttrain-MAE:167.444\n",
      "[199]\teval-rmse:269.844\ttrain-rmse:270.459\teval-MAE:176.857\ttrain-MAE:165.583\n",
      "mae optimiser \n",
      "[0]\teval-rmse:594.754\ttrain-rmse:664.59\teval-MAE:371.54\ttrain-MAE:435.563\n",
      "[25]\teval-rmse:350.131\ttrain-rmse:383.011\teval-MAE:219.708\ttrain-MAE:244.7\n",
      "[50]\teval-rmse:293.747\ttrain-rmse:310.613\teval-MAE:188.602\ttrain-MAE:198.977\n",
      "[75]\teval-rmse:276.836\ttrain-rmse:284.398\teval-MAE:178.998\ttrain-MAE:181.402\n",
      "[100]\teval-rmse:271.699\ttrain-rmse:273.01\teval-MAE:175.811\ttrain-MAE:172.862\n",
      "[125]\teval-rmse:269.98\ttrain-rmse:266.332\teval-MAE:174.911\ttrain-MAE:167.431\n",
      "[150]\teval-rmse:269.568\ttrain-rmse:262.296\teval-MAE:174.651\ttrain-MAE:163.892\n",
      "[175]\teval-rmse:269.54\ttrain-rmse:259.458\teval-MAE:174.677\ttrain-MAE:161.33\n",
      "[199]\teval-rmse:269.539\ttrain-rmse:257.216\teval-MAE:174.799\ttrain-MAE:159.435\n",
      "mae optimiser \n",
      "[0]\teval-rmse:570.624\ttrain-rmse:655.857\teval-MAE:352.157\ttrain-MAE:426.502\n",
      "[25]\teval-rmse:336.8\ttrain-rmse:376.66\teval-MAE:209.181\ttrain-MAE:239.7\n",
      "[50]\teval-rmse:283.658\ttrain-rmse:304.143\teval-MAE:180.989\ttrain-MAE:194.649\n",
      "[75]\teval-rmse:268.206\ttrain-rmse:277.429\teval-MAE:172.748\ttrain-MAE:176.686\n",
      "[100]\teval-rmse:263.71\ttrain-rmse:266.156\teval-MAE:170.144\ttrain-MAE:168.381\n",
      "[125]\teval-rmse:262.316\ttrain-rmse:259.605\teval-MAE:169.35\ttrain-MAE:163.146\n",
      "[150]\teval-rmse:262.103\ttrain-rmse:255.425\teval-MAE:169.198\ttrain-MAE:159.613\n",
      "[175]\teval-rmse:262.2\ttrain-rmse:252.771\teval-MAE:169.224\ttrain-MAE:157.291\n",
      "[199]\teval-rmse:262.314\ttrain-rmse:250.811\teval-MAE:169.357\ttrain-MAE:155.513\n",
      "mae optimiser \n",
      "[0]\teval-rmse:574.467\ttrain-rmse:648.319\teval-MAE:347.262\ttrain-MAE:416.025\n",
      "[25]\teval-rmse:336.416\ttrain-rmse:372.887\teval-MAE:205.956\ttrain-MAE:234.013\n",
      "[50]\teval-rmse:280.975\ttrain-rmse:301.71\teval-MAE:177.043\ttrain-MAE:190.618\n",
      "[75]\teval-rmse:263.822\ttrain-rmse:274.359\teval-MAE:167.81\ttrain-MAE:172.747\n",
      "[100]\teval-rmse:258.663\ttrain-rmse:262.851\teval-MAE:164.988\ttrain-MAE:164.65\n",
      "[125]\teval-rmse:257.568\ttrain-rmse:256.777\teval-MAE:164.588\ttrain-MAE:159.688\n",
      "[150]\teval-rmse:257.36\ttrain-rmse:252.825\teval-MAE:164.531\ttrain-MAE:156.335\n",
      "[175]\teval-rmse:257.667\ttrain-rmse:250.34\teval-MAE:164.781\ttrain-MAE:154.07\n",
      "[199]\teval-rmse:257.687\ttrain-rmse:248.363\teval-MAE:164.91\ttrain-MAE:152.34\n",
      "mae optimiser \n",
      "[0]\teval-rmse:581.689\ttrain-rmse:648\teval-MAE:363.478\ttrain-MAE:421.477\n",
      "[25]\teval-rmse:343.678\ttrain-rmse:372.516\teval-MAE:215.542\ttrain-MAE:235.773\n",
      "[50]\teval-rmse:290.363\ttrain-rmse:303.025\teval-MAE:186.302\ttrain-MAE:192.372\n",
      "[75]\teval-rmse:274.502\ttrain-rmse:277.817\teval-MAE:177.255\ttrain-MAE:176.077\n",
      "[100]\teval-rmse:269.748\ttrain-rmse:265.46\teval-MAE:174.45\ttrain-MAE:167.562\n",
      "[125]\teval-rmse:268.292\ttrain-rmse:259.618\teval-MAE:173.507\ttrain-MAE:162.905\n",
      "[150]\teval-rmse:267.83\ttrain-rmse:255.546\teval-MAE:173.258\ttrain-MAE:159.309\n",
      "[175]\teval-rmse:267.609\ttrain-rmse:252.42\teval-MAE:173.119\ttrain-MAE:156.657\n",
      "[199]\teval-rmse:267.764\ttrain-rmse:250.318\teval-MAE:173.192\ttrain-MAE:154.852\n",
      "mae optimiser \n",
      "[0]\teval-rmse:641.556\ttrain-rmse:722.246\teval-MAE:419.694\ttrain-MAE:499.623\n",
      "[25]\teval-rmse:407.511\ttrain-rmse:441.988\teval-MAE:262.626\ttrain-MAE:293.806\n",
      "[50]\teval-rmse:354.538\ttrain-rmse:366.198\teval-MAE:229.557\ttrain-MAE:241.162\n",
      "[75]\teval-rmse:341.708\ttrain-rmse:341.738\teval-MAE:220.738\ttrain-MAE:221.927\n",
      "[100]\teval-rmse:337.739\ttrain-rmse:331.145\teval-MAE:218.361\ttrain-MAE:213.142\n",
      "[125]\teval-rmse:336.875\ttrain-rmse:325.741\teval-MAE:217.549\ttrain-MAE:208.062\n",
      "[150]\teval-rmse:337.29\ttrain-rmse:322.395\teval-MAE:217.744\ttrain-MAE:204.442\n",
      "[175]\teval-rmse:337.543\ttrain-rmse:319.901\teval-MAE:217.883\ttrain-MAE:201.731\n",
      "[199]\teval-rmse:337.999\ttrain-rmse:318.177\teval-MAE:218.312\ttrain-MAE:199.889\n"
     ]
    }
   ],
   "source": [
    "# the defaut value is set to 30\n",
    "parc_data_hour_train_test[\"xgb_site_35\"]=np.nan\n",
    "for eol_name in eolienne_list:\n",
    "    Eolienne_index = parc_data_hour_train_train[\"Eolienne\"]==eol_name\n",
    "    Eolienne_index_test = parc_data_hour_train_test[\"Eolienne\"]==eol_name\n",
    "    xgdtrain = xgb.DMatrix(parc_data_hour_train_train[Eolienne_index][list_col_model], parc_data_hour_train_train[Eolienne_index][col_target]) \n",
    "    xgdtest = xgb.DMatrix(parc_data_hour_train_test[Eolienne_index_test][list_col_model], parc_data_hour_train_test[Eolienne_index_test][col_target])\n",
    "    evallist  = [(xgdtest,'eval'), (xgdtrain,'train')]\n",
    "    print(\"mae optimiser \")\n",
    "    xgb_model = xgb.train(params = our_params ,dtrain = xgdtrain, evals=evallist, num_boost_round = 200,verbose_eval=25,obj=fair_obj,feval=mean_absolute_err)\n",
    "    parc_data_hour_train_test[\"xgb_site_28\"][Eolienne_index_test]=xgb_model.predict(xgdtest)"
   ]
  },
  {
   "cell_type": "code",
   "execution_count": 22,
   "metadata": {},
   "outputs": [
    {
     "data": {
      "text/plain": [
       "189.03162432428846"
      ]
     },
     "execution_count": 22,
     "metadata": {},
     "output_type": "execute_result"
    }
   ],
   "source": [
    "mean_absolute_error(parc_data_hour_train_test[col_target],parc_data_hour_train_test[\"xgb_site_28\"])"
   ]
  },
  {
   "cell_type": "code",
   "execution_count": 23,
   "metadata": {},
   "outputs": [
    {
     "name": "stderr",
     "output_type": "stream",
     "text": [
      "C:\\Users\\IA2069\\AppData\\Local\\Continuum\\Anaconda3\\lib\\site-packages\\ipykernel_launcher.py:3: SettingWithCopyWarning: \n",
      "A value is trying to be set on a copy of a slice from a DataFrame.\n",
      "Try using .loc[row_indexer,col_indexer] = value instead\n",
      "\n",
      "See the caveats in the documentation: http://pandas.pydata.org/pandas-docs/stable/indexing.html#indexing-view-versus-copy\n",
      "  This is separate from the ipykernel package so we can avoid doing imports until\n",
      "C:\\Users\\IA2069\\AppData\\Local\\Continuum\\Anaconda3\\lib\\site-packages\\ipykernel_launcher.py:11: SettingWithCopyWarning: \n",
      "A value is trying to be set on a copy of a slice from a DataFrame\n",
      "\n",
      "See the caveats in the documentation: http://pandas.pydata.org/pandas-docs/stable/indexing.html#indexing-view-versus-copy\n",
      "  # This is added back by InteractiveShellApp.init_path()\n",
      "C:\\Users\\IA2069\\AppData\\Local\\Continuum\\Anaconda3\\lib\\site-packages\\pandas\\core\\generic.py:5088: SettingWithCopyWarning: \n",
      "A value is trying to be set on a copy of a slice from a DataFrame\n",
      "\n",
      "See the caveats in the documentation: http://pandas.pydata.org/pandas-docs/stable/indexing.html#indexing-view-versus-copy\n",
      "  self._update_inplace(new_data)\n",
      "C:\\Users\\IA2069\\AppData\\Local\\Continuum\\Anaconda3\\lib\\site-packages\\IPython\\core\\interactiveshell.py:2881: SettingWithCopyWarning: \n",
      "A value is trying to be set on a copy of a slice from a DataFrame\n",
      "\n",
      "See the caveats in the documentation: http://pandas.pydata.org/pandas-docs/stable/indexing.html#indexing-view-versus-copy\n",
      "  exec(code_obj, self.user_global_ns, self.user_ns)\n"
     ]
    }
   ],
   "source": [
    "# second validation\n",
    "res = parc_data_hour_test[[\"Date_hour_int\",\"Eolienne\"]]\n",
    "res[\"pred\"] =np.nan\n",
    "\n",
    "for eol_name in eolienne_list:\n",
    "    Eolienne_index = parc_data_hour_train[\"Eolienne\"]==eol_name\n",
    "    xgdmat = xgb.DMatrix(parc_data_hour_train[Eolienne_index][list_col_model], parc_data_hour_train[Eolienne_index][col_target])\n",
    "    xgb_model = xgb.train(params = our_params ,dtrain = xgdmat, num_boost_round = 200,verbose_eval=10,obj=fair_obj,feval=mean_absolute_err)\n",
    "    \n",
    "    Eolienne_index = parc_data_hour_test[\"Eolienne\"]==eol_name\n",
    "    res[\"pred\"][Eolienne_index]=xgb_model.predict(xgb.DMatrix(parc_data_hour_test[Eolienne_index][list_col_model]))\n",
    "save_adr = \"..//submission//sub_09_24_1_delta_feature_35_200.csv\"\n",
    "submission_generation(res,save_adr)"
   ]
  },
  {
   "cell_type": "code",
   "execution_count": null,
   "metadata": {
    "collapsed": true
   },
   "outputs": [],
   "source": []
  }
 ],
 "metadata": {
  "kernelspec": {
   "display_name": "Python 3",
   "language": "python",
   "name": "python3"
  },
  "language_info": {
   "codemirror_mode": {
    "name": "ipython",
    "version": 3
   },
   "file_extension": ".py",
   "mimetype": "text/x-python",
   "name": "python",
   "nbconvert_exporter": "python",
   "pygments_lexer": "ipython3",
   "version": "3.6.1"
  }
 },
 "nbformat": 4,
 "nbformat_minor": 2
}
