{
 "cells": [
  {
   "cell_type": "markdown",
   "metadata": {
    "collapsed": true
   },
   "source": [
    "# La Compagnie du Vent Challenge "
   ]
  },
  {
   "cell_type": "code",
   "execution_count": 1,
   "metadata": {
    "collapsed": true
   },
   "outputs": [],
   "source": [
    "# pacakge import\n",
    "%matplotlib inline\n",
    "import pandas as pd\n",
    "import matplotlib.pyplot as plt\n",
    "import datetime\n",
    "import numpy as np\n",
    "from datetime import timedelta\n",
    "import gc\n",
    "from sklearn.metrics import mean_absolute_error\n",
    "import xgboost as xgb"
   ]
  },
  {
   "cell_type": "code",
   "execution_count": 2,
   "metadata": {
    "collapsed": true
   },
   "outputs": [],
   "source": [
    "def create_df_parc_data(folder_adr,list_num_parc,list_date_parc):\n",
    "    \"\"\"\n",
    "    a function to load (and concatene) informations from Parc_XX.csv\n",
    "    \"\"\"\n",
    "    df_parc_data = pd.DataFrame()\n",
    "    for num_parc in list_num_parc:\n",
    "        for date_parc in list_date_parc:\n",
    "            df_parc_data = df_parc_data.append(pd.read_csv(folder_adr+\"//Parc%s_%s.csv\"%(num_parc,date_parc),sep=\";\",decimal=','),ignore_index=True)\n",
    "    df_parc_data[\"Date\"] = pd.to_datetime(df_parc_data[\"Date\"],format = \"%d/%m/%Y %H:%M\")\n",
    "    return df_parc_data\n",
    "\n",
    "def load_parc_data(folder_adr,list_num_parc,list_date_parc,list_col_parc_data_to_keep):\n",
    "    \"\"\"\n",
    "    keep only fonctionnement == 1 and selection columns\n",
    "    \"\"\"\n",
    "    df_parc_data = create_df_parc_data(folder_adr,list_num_parc,list_date_parc)\n",
    "    # keep only fonctionnment = 1\n",
    "    df_parc_data =  df_parc_data[df_parc_data[\"Fonctionnement\"]==1]\n",
    "    print(df_parc_data.shape)\n",
    "    return df_parc_data[list_col_parc_data_to_keep]\n",
    "\n",
    "def add_feature_timestamp(df_parc_data):\n",
    "    \"\"\"\n",
    "    create time features\n",
    "    \"\"\"\n",
    "    df_parc_data[\"Month\"] = df_parc_data[\"Date\"].dt.month\n",
    "    df_parc_data[\"Day\"] = df_parc_data[\"Date\"].dt.day\n",
    "    df_parc_data[\"Hour\"] = df_parc_data[\"Date\"].dt.hour\n",
    "    df_parc_data[\"Weekday\"] = df_parc_data[\"Date\"].dt.weekday\n",
    "    df_parc_data[\"Date_hour_int\"] = df_parc_data[\"Date\"].dt.year*10**6  + df_parc_data[\"Date\"].dt.month*10**4 +\\\n",
    "    df_parc_data[\"Date\"].dt.day*100 + df_parc_data[\"Date\"].dt.hour\n",
    "    df_parc_data[\"nb_hour\"] = df_parc_data[\"Date\"].apply(lambda x: np.floor((x- datetime.datetime(2015,1,1)).total_seconds()/3600))\n",
    "    return \n",
    " \n",
    "def min_to_hour(df_parc_data):\n",
    "    \"\"\"\n",
    "    convert minute dataframe to hourly dataframe\n",
    "    \"\"\"\n",
    "    df_parc_data_hour = df_parc_data.groupby([\"Date_hour_int\",\"Eolienne\"]).mean()\n",
    "    return df_parc_data_hour.reset_index()\n",
    "\n",
    "def get_eolienne_list(df_parc_data):\n",
    "    \"\"\"\n",
    "    get all eolienne name in the df\n",
    "    \"\"\"\n",
    "    return df_parc_data[\"Eolienne\"].drop_duplicates().tolist()\n",
    "\n",
    "def create_df_meteo_from_list_grille(folder_adr,list_grille):\n",
    "    \"\"\"\n",
    "    a function to load (and concatenate) informations from PrevMeteo_GrilleXX.xlsx\n",
    "    \"\"\"\n",
    "    df_meteo  = pd.DataFrame()\n",
    "    for grille_C in list_grille:\n",
    "        df_meteo_tmp =  pd.read_excel(folder_adr +'/PrevMeteo_Grille%s.xlsx'%(grille_C),sep=';')\n",
    "        df_meteo_tmp[\"grille\"] = grille_C\n",
    "        df_meteo = df_meteo.append(df_meteo_tmp,ignore_index=True)\n",
    "    df_meteo[\"date\"] = pd.to_datetime(df_meteo[\"date\"],format = \"%Y-%m-%d %H:%M:%S\")\n",
    "    df_meteo.rename(columns= {\"date\":\"Date\"},inplace=True)\n",
    "    return df_meteo\n",
    "\n",
    "def meteo_grill_merge(df_meteo,feature_list,join_key):\n",
    "    \"\"\"\n",
    "    merge meteo data by grille\n",
    "    \"\"\"\n",
    "    grille_list = df_meteo[\"grille\"].drop_duplicates().tolist() \n",
    "    all_feature_list = feature_list + join_key\n",
    "    grille_name = grille_list[0]\n",
    "    index = df_meteo[\"grille\"] == grille_name\n",
    "    df_meteo_merged = df_meteo.loc[index,all_feature_list]\n",
    "    df_meteo_merged.columns =  [x +\"_\"+ str(grille_name) for x in feature_list] + join_key\n",
    "    if len(grille_list)==1:\n",
    "        return df_meteo_merged\n",
    "    for grille_name in grille_list[1:]:\n",
    "        index = df_meteo[\"grille\"] == grille_name\n",
    "        df_meteo_merged_p = df_meteo.loc[index,all_feature_list]\n",
    "        df_meteo_merged_p.columns =  [x +\"_\"+ str(grille_name) for x in feature_list] + join_key\n",
    "        df_meteo_merged =  pd.merge(df_meteo_merged,df_meteo_merged_p,on=\"Date_hour_int\",how=\"left\")\n",
    "    return df_meteo_merged\n",
    "\n",
    "# define new objective fonction for xgboost\n",
    "def fair_obj(preds, dtrain):\n",
    "    \"\"\"\n",
    "    fair_obj function to optimize approximatively MAE\n",
    "    \"\"\"\n",
    "    fair_constant = 30\n",
    "    labels = dtrain.get_label()\n",
    "    x = (preds - labels)\n",
    "    den = abs(x) + fair_constant\n",
    "    grad = fair_constant * x / (den)\n",
    "    hess = fair_constant * fair_constant / (den * den)\n",
    "    return grad, hess\n",
    "\n",
    "def mean_absolute_err(y_true, y_pred):\n",
    "    \"\"\"\n",
    "    MAE Metric\n",
    "    \"\"\"\n",
    "    y_true = y_true\n",
    "    y_pred= y_pred.get_label()\n",
    "    return \"MAE\",np.mean(np.abs((y_true - y_pred))) \n",
    "\n",
    "def time_zone(df_meteo):\n",
    "    \"\"\"\n",
    "    Aline the 2 time zone in the meteo file and production file\n",
    "    \"\"\"\n",
    "    df_meteo[\"Date\"] = df_meteo[\"Date\"] + timedelta(hours=1)\n",
    "    df_meteo_new = df_meteo[(df_meteo[\"fc_hor\"]>=24)&(df_meteo[\"fc_hor\"]<=47)]\n",
    "    del(df_meteo)\n",
    "    gc.collect()\n",
    "    return df_meteo_new\n",
    "\n",
    "def meteo_delta_feature(df_meteo):\n",
    "    \"\"\"\n",
    "    generate meteo delta feature\n",
    "    \"\"\"\n",
    "    df_meteo[\"vit_100_delta\"] =df_meteo[\"vit_100\"] - df_meteo[\"vit_100\"].shift(1)\n",
    "    df_meteo[\"vit_10_delta\"] =df_meteo[\"vit_10\"] - df_meteo[\"vit_10\"].shift(1)\n",
    "    df_meteo[\"dir_100_delta\"] =df_meteo[\"dir_100\"] - df_meteo[\"dir_100\"].shift(1)\n",
    "    df_meteo[\"dir_10_delta\"] =df_meteo[\"dir_10\"] - df_meteo[\"dir_10\"].shift(1)\n",
    "    return \n",
    "\n",
    "def submission_generation(res,save_adr):\n",
    "    \"\"\"\n",
    "    generate submission file\n",
    "    \"\"\"\n",
    "    submission = pd.read_csv(\"..//data//submit_benchmark.csv\",sep=\";\")\n",
    "    submission[\"Date\"] = pd.to_datetime(submission[\"Date\"],format = \"%Y-%m-%d %H:%M:%S\")\n",
    "    add_feature_timestamp(submission)\n",
    "    submission =  submission[[\"Date_hour_int\",\"Eolienne\",\"Date\"]]\n",
    "    submission=pd.merge(submission,res,on=[\"Date_hour_int\",\"Eolienne\"],how=\"left\")[[\"Date\",\"Eolienne\",\"pred\"]]\n",
    "    submission.to_csv(save_adr,sep=';',header=True,index = False)"
   ]
  },
  {
   "cell_type": "markdown",
   "metadata": {},
   "source": [
    "# DATA Loading"
   ]
  },
  {
   "cell_type": "code",
   "execution_count": 3,
   "metadata": {},
   "outputs": [
    {
     "name": "stdout",
     "output_type": "stream",
     "text": [
      "(12910771, 17)\n"
     ]
    }
   ],
   "source": [
    "# parc data \n",
    "folder_adr = \"..//data\"\n",
    "list_num_parc = [1,2,3]\n",
    "list_date_parc = [\"2015\",\"2016\",\"2017\"]\n",
    "list_col_parc_data_to_keep = [\"Date\",\"Eolienne\",\"Production\",\"Fonctionnement\",\"Catégorie\",\"State\",\"Etat\",\"Vent\"]\n",
    "parc_data_min = load_parc_data(folder_adr,list_num_parc,list_date_parc,list_col_parc_data_to_keep)\n",
    "\n",
    "#forecast data\n",
    "list_grille= [1,2,3,4,5,6,7,8,9,10,11,12,13,14,15,16]\n",
    "##for this example notebook, we will only take one \"grille\" (=9) \n",
    "df_meteo = create_df_meteo_from_list_grille(folder_adr,list_grille)"
   ]
  },
  {
   "cell_type": "markdown",
   "metadata": {
    "collapsed": true
   },
   "source": [
    "# Feature engineering"
   ]
  },
  {
   "cell_type": "code",
   "execution_count": 4,
   "metadata": {
    "collapsed": true
   },
   "outputs": [],
   "source": [
    "# add feature and convert to hourly data\n",
    "add_feature_timestamp(parc_data_min)\n",
    "parc_data_hour =  min_to_hour(parc_data_min)\n",
    "df_meteo = time_zone(df_meteo)\n",
    "meteo_delta_feature(df_meteo)\n",
    "add_feature_timestamp(df_meteo)\n",
    "\n",
    "# we don't need the minute data any more\n",
    "del(parc_data_min)\n",
    "gc.collect()\n",
    "\n",
    "eolienne_list = get_eolienne_list(parc_data_hour)\n",
    "feature_list = [\"vit_100\",\"vit_10\",'dir_100','dir_10',\"vit_100_delta\",\"vit_10_delta\",'dir_100_delta','dir_10_delta',\"fc_hor\"]\n",
    "join_key = [\"Date_hour_int\"]\n",
    "meteo_grill_merged = meteo_grill_merge(df_meteo,feature_list,join_key)"
   ]
  },
  {
   "cell_type": "code",
   "execution_count": 5,
   "metadata": {
    "collapsed": true
   },
   "outputs": [],
   "source": [
    "parc_data_hour = pd.merge(parc_data_hour,meteo_grill_merged,on=[\"Date_hour_int\"],how=\"left\")"
   ]
  },
  {
   "cell_type": "markdown",
   "metadata": {},
   "source": [
    "# Train/test validation"
   ]
  },
  {
   "cell_type": "code",
   "execution_count": 6,
   "metadata": {},
   "outputs": [
    {
     "name": "stdout",
     "output_type": "stream",
     "text": [
      "(189214, 155)\n",
      "(26884, 155)\n"
     ]
    },
    {
     "name": "stderr",
     "output_type": "stream",
     "text": [
      "C:\\Users\\IA2069\\AppData\\Local\\Continuum\\Anaconda3\\lib\\site-packages\\ipykernel_launcher.py:5: SettingWithCopyWarning: \n",
      "A value is trying to be set on a copy of a slice from a DataFrame\n",
      "\n",
      "See the caveats in the documentation: http://pandas.pydata.org/pandas-docs/stable/indexing.html#indexing-view-versus-copy\n",
      "  \"\"\"\n",
      "C:\\Users\\IA2069\\AppData\\Local\\Continuum\\Anaconda3\\lib\\site-packages\\ipykernel_launcher.py:9: SettingWithCopyWarning: \n",
      "A value is trying to be set on a copy of a slice from a DataFrame\n",
      "\n",
      "See the caveats in the documentation: http://pandas.pydata.org/pandas-docs/stable/indexing.html#indexing-view-versus-copy\n",
      "  if __name__ == '__main__':\n"
     ]
    }
   ],
   "source": [
    "date_split_test = 2017010100\n",
    "parc_data_hour_train = parc_data_hour[parc_data_hour[\"Date_hour_int\"]<date_split_test]\n",
    "parc_data_hour_test = parc_data_hour[parc_data_hour[\"Date_hour_int\"]>=date_split_test]\n",
    "\n",
    "parc_data_hour_train.dropna(inplace=True)\n",
    "print(parc_data_hour_train.shape)\n",
    "print(parc_data_hour_test.shape)\n",
    "\n",
    "parc_data_hour_train.sort_values(\"Date_hour_int\",inplace=True)\n",
    "parc_data_hour_train_train = parc_data_hour_train.iloc[:94618,:]\n",
    "parc_data_hour_train_test  = parc_data_hour_train.iloc[94618:189236,:]"
   ]
  },
  {
   "cell_type": "code",
   "execution_count": 7,
   "metadata": {},
   "outputs": [],
   "source": [
    "# feature used in model \n",
    "col_target =\"Production\"\n",
    "prefix_list = [\"vit_100_\",\"vit_10_\",\"dir_100_\",\"dir_10_\",\"vit_100_delta_\",\"vit_10_delta_\",\"dir_100_delta_\",\"dir_10_delta_\"]\n",
    "list_col_model =  []\n",
    "list_grille= [1,2,3,4,5,6,7,8,9,10,11,12,13,14,15,16]\n",
    "for grille_ind in list_grille:\n",
    "    list_col_model += [prefix+str(grille_ind) for prefix in prefix_list]"
   ]
  },
  {
   "cell_type": "code",
   "execution_count": 8,
   "metadata": {
    "collapsed": true
   },
   "outputs": [],
   "source": [
    "our_params = {'eta': 0.02,  'subsample': 0.99, 'colsample_bytree': 0.95, \n",
    "              'objective': 'reg:linear', 'max_depth':20, 'min_child_weight':20}"
   ]
  },
  {
   "cell_type": "code",
   "execution_count": 9,
   "metadata": {
    "scrolled": true
   },
   "outputs": [
    {
     "name": "stderr",
     "output_type": "stream",
     "text": [
      "C:\\Users\\IA2069\\AppData\\Local\\Continuum\\Anaconda3\\lib\\site-packages\\ipykernel_launcher.py:2: SettingWithCopyWarning: \n",
      "A value is trying to be set on a copy of a slice from a DataFrame.\n",
      "Try using .loc[row_indexer,col_indexer] = value instead\n",
      "\n",
      "See the caveats in the documentation: http://pandas.pydata.org/pandas-docs/stable/indexing.html#indexing-view-versus-copy\n",
      "  \n"
     ]
    },
    {
     "name": "stdout",
     "output_type": "stream",
     "text": [
      "mae optimiser \n",
      "[0]\teval-rmse:660.277\ttrain-rmse:738.831\teval-MAE:441.006\ttrain-MAE:512.23\n",
      "[50]\teval-rmse:311.194\ttrain-rmse:338.933\teval-MAE:208.539\ttrain-MAE:224.51\n",
      "[100]\teval-rmse:281.09\ttrain-rmse:295.728\teval-MAE:189.639\ttrain-MAE:192.058\n",
      "[150]\teval-rmse:276.468\ttrain-rmse:283.676\teval-MAE:186.886\ttrain-MAE:181.426\n",
      "[200]\teval-rmse:275.332\ttrain-rmse:277.664\teval-MAE:186.468\ttrain-MAE:175.761\n",
      "[249]\teval-rmse:274.77\ttrain-rmse:273.168\teval-MAE:186.036\ttrain-MAE:171.334\n",
      "rmse optimiser\n",
      "[0]\teval-rmse:683.578\ttrain-rmse:764.11\teval-MAE:458.651\ttrain-MAE:532.898\n",
      "[50]\teval-rmse:353.901\ttrain-rmse:348.395\teval-MAE:234.693\ttrain-MAE:231.851\n",
      "[100]\teval-rmse:285.481\ttrain-rmse:203.022\teval-MAE:199.785\ttrain-MAE:133.559\n",
      "[150]\teval-rmse:277.866\ttrain-rmse:146.871\teval-MAE:197.258\ttrain-MAE:95.9882\n",
      "[200]\teval-rmse:278.143\ttrain-rmse:120.235\teval-MAE:198.071\ttrain-MAE:78.0283\n",
      "[249]\teval-rmse:279.042\ttrain-rmse:106.544\teval-MAE:198.956\ttrain-MAE:69.0293\n"
     ]
    },
    {
     "name": "stderr",
     "output_type": "stream",
     "text": [
      "C:\\Users\\IA2069\\AppData\\Local\\Continuum\\Anaconda3\\lib\\site-packages\\ipykernel_launcher.py:13: SettingWithCopyWarning: \n",
      "A value is trying to be set on a copy of a slice from a DataFrame\n",
      "\n",
      "See the caveats in the documentation: http://pandas.pydata.org/pandas-docs/stable/indexing.html#indexing-view-versus-copy\n",
      "  del sys.path[0]\n",
      "C:\\Users\\IA2069\\AppData\\Local\\Continuum\\Anaconda3\\lib\\site-packages\\pandas\\core\\generic.py:5088: SettingWithCopyWarning: \n",
      "A value is trying to be set on a copy of a slice from a DataFrame\n",
      "\n",
      "See the caveats in the documentation: http://pandas.pydata.org/pandas-docs/stable/indexing.html#indexing-view-versus-copy\n",
      "  self._update_inplace(new_data)\n",
      "C:\\Users\\IA2069\\AppData\\Local\\Continuum\\Anaconda3\\lib\\site-packages\\IPython\\core\\interactiveshell.py:2881: SettingWithCopyWarning: \n",
      "A value is trying to be set on a copy of a slice from a DataFrame\n",
      "\n",
      "See the caveats in the documentation: http://pandas.pydata.org/pandas-docs/stable/indexing.html#indexing-view-versus-copy\n",
      "  exec(code_obj, self.user_global_ns, self.user_ns)\n"
     ]
    },
    {
     "name": "stdout",
     "output_type": "stream",
     "text": [
      "mae optimiser \n",
      "[0]\teval-rmse:653.023\ttrain-rmse:712.699\teval-MAE:422.73\ttrain-MAE:487.963\n",
      "[50]\teval-rmse:364.607\ttrain-rmse:380.793\teval-MAE:231.934\ttrain-MAE:244.964\n",
      "[100]\teval-rmse:337.107\ttrain-rmse:340.408\teval-MAE:215.07\ttrain-MAE:214.545\n",
      "[150]\teval-rmse:333.148\ttrain-rmse:330.23\teval-MAE:212.122\ttrain-MAE:204.78\n",
      "[200]\teval-rmse:333.124\ttrain-rmse:326.376\teval-MAE:211.983\ttrain-MAE:200.141\n",
      "[249]\teval-rmse:333.131\ttrain-rmse:323.222\teval-MAE:212.082\ttrain-MAE:196.378\n",
      "rmse optimiser\n",
      "[0]\teval-rmse:666.762\ttrain-rmse:726.486\teval-MAE:432.797\ttrain-MAE:499.28\n",
      "[50]\teval-rmse:392.98\ttrain-rmse:351.751\teval-MAE:251.163\ttrain-MAE:228.334\n",
      "[100]\teval-rmse:343.656\ttrain-rmse:219.784\teval-MAE:232.969\ttrain-MAE:142.435\n",
      "[150]\teval-rmse:338.956\ttrain-rmse:165.415\teval-MAE:234.611\ttrain-MAE:107.423\n",
      "[200]\teval-rmse:340.148\ttrain-rmse:139.613\teval-MAE:236.944\ttrain-MAE:90.8755\n",
      "[249]\teval-rmse:341.313\ttrain-rmse:124.665\teval-MAE:238.353\ttrain-MAE:81.3306\n",
      "mae optimiser \n",
      "[0]\teval-rmse:673.162\ttrain-rmse:730.22\teval-MAE:445.61\ttrain-MAE:508.113\n",
      "[50]\teval-rmse:376.278\ttrain-rmse:383.382\teval-MAE:239.347\ttrain-MAE:248.437\n",
      "[100]\teval-rmse:348.672\ttrain-rmse:342.174\teval-MAE:223.2\ttrain-MAE:216.783\n",
      "[150]\teval-rmse:345.792\ttrain-rmse:332.535\teval-MAE:221.577\ttrain-MAE:207.12\n",
      "[200]\teval-rmse:345.851\ttrain-rmse:328.698\teval-MAE:221.737\ttrain-MAE:202.189\n",
      "[249]\teval-rmse:345.526\ttrain-rmse:325.146\teval-MAE:221.516\ttrain-MAE:197.756\n",
      "rmse optimiser\n",
      "[0]\teval-rmse:684.689\ttrain-rmse:742.637\teval-MAE:453.993\ttrain-MAE:518.499\n",
      "[50]\teval-rmse:402.182\ttrain-rmse:357.616\teval-MAE:258.279\ttrain-MAE:236.295\n",
      "[100]\teval-rmse:352.347\ttrain-rmse:222.783\teval-MAE:238.003\ttrain-MAE:145.067\n",
      "[150]\teval-rmse:348.916\ttrain-rmse:168.366\teval-MAE:239.84\ttrain-MAE:108.716\n",
      "[200]\teval-rmse:350.448\ttrain-rmse:140.165\teval-MAE:242.275\ttrain-MAE:90.2483\n",
      "[249]\teval-rmse:351.864\ttrain-rmse:124.669\teval-MAE:244.006\ttrain-MAE:80.2274\n",
      "mae optimiser \n",
      "[0]\teval-rmse:647.89\ttrain-rmse:725.684\teval-MAE:429.051\ttrain-MAE:501.389\n",
      "[50]\teval-rmse:304.163\ttrain-rmse:336.529\teval-MAE:202.639\ttrain-MAE:220.444\n",
      "[100]\teval-rmse:274.811\ttrain-rmse:294.354\teval-MAE:184.396\ttrain-MAE:189.048\n",
      "[150]\teval-rmse:270.96\ttrain-rmse:282.966\teval-MAE:181.657\ttrain-MAE:178.947\n",
      "[200]\teval-rmse:269.99\ttrain-rmse:277.911\teval-MAE:181.026\ttrain-MAE:174.088\n",
      "[249]\teval-rmse:269.844\ttrain-rmse:273.919\teval-MAE:181.078\ttrain-MAE:170.277\n",
      "rmse optimiser\n",
      "[0]\teval-rmse:671.97\ttrain-rmse:751.471\teval-MAE:447.202\ttrain-MAE:522.497\n",
      "[50]\teval-rmse:348.212\ttrain-rmse:344.599\teval-MAE:230.26\ttrain-MAE:227.713\n",
      "[100]\teval-rmse:281.894\ttrain-rmse:203.394\teval-MAE:197.029\ttrain-MAE:132.279\n",
      "[150]\teval-rmse:274.769\ttrain-rmse:148.923\teval-MAE:194.92\ttrain-MAE:95.7976\n",
      "[200]\teval-rmse:275.542\ttrain-rmse:123.045\teval-MAE:196.17\ttrain-MAE:78.5919\n",
      "[249]\teval-rmse:276.641\ttrain-rmse:109.782\teval-MAE:197.182\ttrain-MAE:69.9781\n",
      "mae optimiser \n",
      "[0]\teval-rmse:615.803\ttrain-rmse:693.984\teval-MAE:392.997\ttrain-MAE:465.227\n",
      "[50]\teval-rmse:296.878\ttrain-rmse:323.025\teval-MAE:193.389\ttrain-MAE:208.321\n",
      "[100]\teval-rmse:267.589\ttrain-rmse:280.205\teval-MAE:176.194\ttrain-MAE:178.966\n",
      "[150]\teval-rmse:263.54\ttrain-rmse:268.79\teval-MAE:173.199\ttrain-MAE:168.666\n",
      "[200]\teval-rmse:262.851\ttrain-rmse:263.69\teval-MAE:172.719\ttrain-MAE:164.098\n",
      "[249]\teval-rmse:262.835\ttrain-rmse:259.72\teval-MAE:172.728\ttrain-MAE:160.209\n",
      "rmse optimiser\n",
      "[0]\teval-rmse:638.178\ttrain-rmse:718.236\teval-MAE:409.193\ttrain-MAE:484.779\n",
      "[50]\teval-rmse:336.927\ttrain-rmse:327.74\teval-MAE:217.495\ttrain-MAE:211.771\n",
      "[100]\teval-rmse:274.909\ttrain-rmse:192.129\teval-MAE:187.18\ttrain-MAE:123.706\n",
      "[150]\teval-rmse:267.72\ttrain-rmse:139.248\teval-MAE:184.88\ttrain-MAE:89.5175\n",
      "[200]\teval-rmse:268.376\ttrain-rmse:114.054\teval-MAE:186.024\ttrain-MAE:73.0168\n",
      "[249]\teval-rmse:269.039\ttrain-rmse:100.938\teval-MAE:186.685\ttrain-MAE:64.4359\n",
      "mae optimiser \n",
      "[0]\teval-rmse:601.924\ttrain-rmse:669.331\teval-MAE:380.765\ttrain-MAE:441.448\n",
      "[50]\teval-rmse:293.591\ttrain-rmse:322.565\teval-MAE:190.417\ttrain-MAE:204.264\n",
      "[100]\teval-rmse:263.491\ttrain-rmse:279.424\teval-MAE:173.515\ttrain-MAE:175.067\n",
      "[150]\teval-rmse:259.256\ttrain-rmse:267.98\teval-MAE:170.541\ttrain-MAE:165.394\n",
      "[200]\teval-rmse:258.908\ttrain-rmse:263.443\teval-MAE:170.258\ttrain-MAE:161.086\n",
      "[249]\teval-rmse:259.259\ttrain-rmse:259.93\teval-MAE:170.396\ttrain-MAE:157.72\n",
      "rmse optimiser\n",
      "[0]\teval-rmse:623.348\ttrain-rmse:691.902\teval-MAE:396.618\ttrain-MAE:459.871\n",
      "[50]\teval-rmse:329.614\ttrain-rmse:318.814\teval-MAE:211.746\ttrain-MAE:201.952\n",
      "[100]\teval-rmse:269.647\ttrain-rmse:189.471\teval-MAE:184.169\ttrain-MAE:119.223\n",
      "[150]\teval-rmse:262.978\ttrain-rmse:139.014\teval-MAE:182.81\ttrain-MAE:86.8639\n",
      "[200]\teval-rmse:263.458\ttrain-rmse:114.26\teval-MAE:184.018\ttrain-MAE:70.856\n",
      "[249]\teval-rmse:264.385\ttrain-rmse:100.803\teval-MAE:185.079\ttrain-MAE:62.3594\n",
      "mae optimiser \n",
      "[0]\teval-rmse:594.715\ttrain-rmse:665.183\teval-MAE:370.287\ttrain-MAE:434.982\n",
      "[50]\teval-rmse:290.363\ttrain-rmse:311.383\teval-MAE:186.46\ttrain-MAE:199.72\n",
      "[100]\teval-rmse:262.7\ttrain-rmse:267.178\teval-MAE:171.122\ttrain-MAE:169.976\n",
      "[150]\teval-rmse:259.949\ttrain-rmse:255.788\teval-MAE:169.308\ttrain-MAE:160.283\n",
      "[200]\teval-rmse:259.706\ttrain-rmse:249.342\teval-MAE:169.341\ttrain-MAE:154.688\n",
      "[249]\teval-rmse:259.754\ttrain-rmse:244.832\teval-MAE:169.494\ttrain-MAE:150.745\n",
      "rmse optimiser\n",
      "[0]\teval-rmse:614.865\ttrain-rmse:686.614\teval-MAE:385.141\ttrain-MAE:452.444\n",
      "[50]\teval-rmse:326.214\ttrain-rmse:311.554\teval-MAE:207.089\ttrain-MAE:198.075\n",
      "[100]\teval-rmse:268.803\ttrain-rmse:181.1\teval-MAE:180.856\ttrain-MAE:115.555\n",
      "[150]\teval-rmse:262.928\ttrain-rmse:131.628\teval-MAE:179.291\ttrain-MAE:84.0322\n",
      "[200]\teval-rmse:263.736\ttrain-rmse:108.104\teval-MAE:180.5\ttrain-MAE:68.847\n",
      "[249]\teval-rmse:264.704\ttrain-rmse:95.3563\teval-MAE:181.54\ttrain-MAE:60.7021\n",
      "mae optimiser \n",
      "[0]\teval-rmse:573.226\ttrain-rmse:657.719\teval-MAE:354.123\ttrain-MAE:427.226\n",
      "[50]\teval-rmse:280.411\ttrain-rmse:302.627\teval-MAE:179.45\ttrain-MAE:194.049\n",
      "[100]\teval-rmse:255.807\ttrain-rmse:259.221\teval-MAE:165.585\ttrain-MAE:164.788\n",
      "[150]\teval-rmse:252.968\ttrain-rmse:247.963\teval-MAE:163.728\ttrain-MAE:155.559\n",
      "[200]\teval-rmse:252.895\ttrain-rmse:242.646\teval-MAE:163.893\ttrain-MAE:150.83\n",
      "[249]\teval-rmse:252.738\ttrain-rmse:238.088\teval-MAE:163.804\ttrain-MAE:146.682\n",
      "rmse optimiser\n",
      "[0]\teval-rmse:590.82\ttrain-rmse:677.092\teval-MAE:366.459\ttrain-MAE:442.264\n",
      "[50]\teval-rmse:315.667\ttrain-rmse:306.692\teval-MAE:198.708\ttrain-MAE:193.945\n",
      "[100]\teval-rmse:260.791\ttrain-rmse:178.199\teval-MAE:174.509\ttrain-MAE:113.314\n",
      "[150]\teval-rmse:255.315\ttrain-rmse:128.957\teval-MAE:173.251\ttrain-MAE:82.1603\n",
      "[200]\teval-rmse:256.103\ttrain-rmse:105.97\teval-MAE:174.392\ttrain-MAE:67.5081\n",
      "[249]\teval-rmse:256.977\ttrain-rmse:93.5939\teval-MAE:175.339\ttrain-MAE:59.7236\n",
      "mae optimiser \n",
      "[0]\teval-rmse:579.216\ttrain-rmse:652.57\teval-MAE:350.266\ttrain-MAE:418.227\n",
      "[50]\teval-rmse:277.541\ttrain-rmse:300.032\teval-MAE:175.449\ttrain-MAE:190.325\n",
      "[100]\teval-rmse:250.746\ttrain-rmse:256.438\teval-MAE:160.902\ttrain-MAE:161.868\n",
      "[150]\teval-rmse:247.913\ttrain-rmse:245.378\teval-MAE:159.148\ttrain-MAE:152.585\n",
      "[200]\teval-rmse:247.934\ttrain-rmse:240.587\teval-MAE:159.248\ttrain-MAE:148.271\n",
      "[249]\teval-rmse:248.13\ttrain-rmse:236.288\teval-MAE:159.505\ttrain-MAE:144.508\n",
      "rmse optimiser\n",
      "[0]\teval-rmse:591.95\ttrain-rmse:666.106\teval-MAE:359.302\ttrain-MAE:429.082\n",
      "[50]\teval-rmse:312.335\ttrain-rmse:301.509\teval-MAE:194.409\ttrain-MAE:188.39\n",
      "[100]\teval-rmse:257.109\ttrain-rmse:174.621\teval-MAE:170.441\ttrain-MAE:109.898\n",
      "[150]\teval-rmse:251.344\ttrain-rmse:125.992\teval-MAE:169.373\ttrain-MAE:79.7258\n",
      "[200]\teval-rmse:252.206\ttrain-rmse:103.9\teval-MAE:170.733\ttrain-MAE:66.0003\n",
      "[249]\teval-rmse:253.224\ttrain-rmse:91.8554\teval-MAE:171.775\ttrain-MAE:58.4609\n",
      "mae optimiser \n",
      "[0]\teval-rmse:582.847\ttrain-rmse:649.164\teval-MAE:363.695\ttrain-MAE:421.804\n",
      "[50]\teval-rmse:286.646\ttrain-rmse:301.033\teval-MAE:183.821\ttrain-MAE:191.725\n",
      "[100]\teval-rmse:260.835\ttrain-rmse:258.412\teval-MAE:169.191\ttrain-MAE:163.719\n",
      "[150]\teval-rmse:258.345\ttrain-rmse:247.047\teval-MAE:167.429\ttrain-MAE:154.266\n",
      "[200]\teval-rmse:257.739\ttrain-rmse:241.27\teval-MAE:167.012\ttrain-MAE:149.296\n",
      "[249]\teval-rmse:258.036\ttrain-rmse:237.695\teval-MAE:167.173\ttrain-MAE:146.074\n",
      "rmse optimiser\n",
      "[0]\teval-rmse:600.506\ttrain-rmse:668.044\teval-MAE:376.629\ttrain-MAE:436.982\n"
     ]
    },
    {
     "name": "stdout",
     "output_type": "stream",
     "text": [
      "[50]\teval-rmse:319.292\ttrain-rmse:303.197\teval-MAE:202.568\ttrain-MAE:192.119\n",
      "[100]\teval-rmse:264.312\ttrain-rmse:176.744\teval-MAE:177.523\ttrain-MAE:112.347\n",
      "[150]\teval-rmse:258.789\ttrain-rmse:128.525\teval-MAE:176.132\ttrain-MAE:81.6472\n",
      "[200]\teval-rmse:259.541\ttrain-rmse:106.628\teval-MAE:177.317\ttrain-MAE:67.9816\n",
      "[249]\teval-rmse:260.48\ttrain-rmse:95.0667\teval-MAE:178.335\ttrain-MAE:60.8379\n",
      "mae optimiser \n",
      "[0]\teval-rmse:644.802\ttrain-rmse:725.562\teval-MAE:421.896\ttrain-MAE:501.709\n",
      "[50]\teval-rmse:352.025\ttrain-rmse:365.608\teval-MAE:227.344\ttrain-MAE:239.982\n",
      "[100]\teval-rmse:332.56\ttrain-rmse:327.189\teval-MAE:213.448\ttrain-MAE:209.504\n",
      "[150]\teval-rmse:331.522\ttrain-rmse:318.12\teval-MAE:212.325\ttrain-MAE:200.276\n",
      "[200]\teval-rmse:331.953\ttrain-rmse:314.185\teval-MAE:212.505\ttrain-MAE:195.762\n",
      "[249]\teval-rmse:332.156\ttrain-rmse:310.813\teval-MAE:212.895\ttrain-MAE:192.244\n",
      "rmse optimiser\n",
      "[0]\teval-rmse:658.987\ttrain-rmse:740.734\teval-MAE:432.625\ttrain-MAE:514.183\n",
      "[50]\teval-rmse:379.672\ttrain-rmse:353.375\teval-MAE:247.138\ttrain-MAE:232.924\n",
      "[100]\teval-rmse:333.673\ttrain-rmse:217.1\teval-MAE:228.828\ttrain-MAE:142.747\n",
      "[150]\teval-rmse:332.2\ttrain-rmse:162.659\teval-MAE:231.306\ttrain-MAE:107.026\n",
      "[200]\teval-rmse:334.486\ttrain-rmse:135.763\teval-MAE:233.962\ttrain-MAE:89.3055\n",
      "[249]\teval-rmse:335.704\ttrain-rmse:121.59\teval-MAE:235.291\ttrain-MAE:80.1355\n"
     ]
    }
   ],
   "source": [
    "# validation\n",
    "parc_data_hour_train_test[\"xgb_site\"]=np.nan\n",
    "for eol_name in eolienne_list:\n",
    "    Eolienne_index = parc_data_hour_train_train[\"Eolienne\"]==eol_name\n",
    "    Eolienne_index_test = parc_data_hour_train_test[\"Eolienne\"]==eol_name\n",
    "    xgdtrain = xgb.DMatrix(parc_data_hour_train_train[Eolienne_index][list_col_model], parc_data_hour_train_train[Eolienne_index][col_target]) \n",
    "    xgdtest = xgb.DMatrix(parc_data_hour_train_test[Eolienne_index_test][list_col_model], parc_data_hour_train_test[Eolienne_index_test][col_target])\n",
    "    evallist  = [(xgdtest,'eval'), (xgdtrain,'train')]\n",
    "    print(\"mae optimiser \")\n",
    "    xgb_model = xgb.train(params = our_params ,dtrain = xgdtrain, evals=evallist, num_boost_round = 250,verbose_eval=50,obj=fair_obj,feval=mean_absolute_err)\n",
    "    print(\"rmse optimiser\")\n",
    "    xgb_model_2 = xgb.train(params = our_params ,dtrain = xgdtrain, evals=evallist, num_boost_round = 250,verbose_eval=50,feval=mean_absolute_err)\n",
    "    parc_data_hour_train_test[\"xgb_site\"][Eolienne_index_test]=xgb_model.predict(xgdtest)"
   ]
  },
  {
   "cell_type": "markdown",
   "metadata": {},
   "source": [
    "# Prediction & make submission"
   ]
  },
  {
   "cell_type": "code",
   "execution_count": 11,
   "metadata": {},
   "outputs": [
    {
     "name": "stderr",
     "output_type": "stream",
     "text": [
      "C:\\Users\\IA2069\\AppData\\Local\\Continuum\\Anaconda3\\lib\\site-packages\\ipykernel_launcher.py:2: SettingWithCopyWarning: \n",
      "A value is trying to be set on a copy of a slice from a DataFrame.\n",
      "Try using .loc[row_indexer,col_indexer] = value instead\n",
      "\n",
      "See the caveats in the documentation: http://pandas.pydata.org/pandas-docs/stable/indexing.html#indexing-view-versus-copy\n",
      "  \n",
      "C:\\Users\\IA2069\\AppData\\Local\\Continuum\\Anaconda3\\lib\\site-packages\\ipykernel_launcher.py:6: SettingWithCopyWarning: \n",
      "A value is trying to be set on a copy of a slice from a DataFrame.\n",
      "Try using .loc[row_indexer,col_indexer] = value instead\n",
      "\n",
      "See the caveats in the documentation: http://pandas.pydata.org/pandas-docs/stable/indexing.html#indexing-view-versus-copy\n",
      "  \n"
     ]
    }
   ],
   "source": [
    "res = parc_data_hour_test[[\"Date_hour_int\",\"Eolienne\"]]\n",
    "res[\"pred\"] =np.nan\n",
    "\n",
    "xgdmat = xgb.DMatrix(parc_data_hour_train[list_col_model], parc_data_hour_train[col_target])\n",
    "xgb_model = xgb.train(params = our_params ,dtrain = xgdmat, num_boost_round = 150,verbose_eval=10,obj=fair_obj,feval=mean_absolute_err)\n",
    "res[\"pred\"]=xgb_model.predict(xgb.DMatrix(parc_data_hour_test[list_col_model]))\n",
    "\n",
    "save_adr = \"..//submission//final_solution.csv\"\n",
    "submission_generation(res,save_adr)"
   ]
  }
 ],
 "metadata": {
  "kernelspec": {
   "display_name": "Python 3",
   "language": "python",
   "name": "python3"
  },
  "language_info": {
   "codemirror_mode": {
    "name": "ipython",
    "version": 3
   },
   "file_extension": ".py",
   "mimetype": "text/x-python",
   "name": "python",
   "nbconvert_exporter": "python",
   "pygments_lexer": "ipython3",
   "version": "3.6.1"
  }
 },
 "nbformat": 4,
 "nbformat_minor": 2
}
